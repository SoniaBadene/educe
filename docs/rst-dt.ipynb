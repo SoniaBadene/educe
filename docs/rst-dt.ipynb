{
 "cells": [
  {
   "cell_type": "markdown",
   "metadata": {},
   "source": [
    "# Educe\n",
    "\n",
    "[Educe][educe] is a library for working with a variety of discourse corpora.\n",
    "This tutorial aims to show what using educe would be like.\n",
    "\n",
    "## Installation\n",
    "\n",
    "```shell\n",
    "git clone https://github.com/kowey/educe.git\n",
    "cd educe\n",
    "pip install -r requirements.txt\n",
    "```\n",
    "\n",
    "Note: these instructions assume you are running within\n",
    "a [virtual environment][virtualenv].\n",
    "If not, and if you have permission\n",
    "denied errors, replace `pip` with `sudo pip`.\n",
    "\n",
    "## Tutorial setup\n",
    "\n",
    "RST-DT portions of this tutorial require that you have a local copy of the RST Discourse Treebank. For purposes of this tutorial, you will need to link this into the data directory, for example\n",
    "\n",
    "```\n",
    "ln -s $HOME/CORPORA/rst_discourse_treebank data\n",
    "ln -s $HOME/CORPORA/PTBIII data\n",
    "```\n",
    "### Tutorial in browser (optional)\n",
    "\n",
    "This tutorial can either be followed along with the command line and your favourite\n",
    "text editor, or embedded in an interactive webpage via iPython:\n",
    "\n",
    "```shell\n",
    "pip install ipython\n",
    "cd tutorials\n",
    "ipython notebook\n",
    "```\n",
    "\n",
    "[educe]: http://kowey.github.io/educe\n",
    "[virtualenv]: http://virtualenv.readthedocs.org/en/latest/\n"
   ]
  },
  {
   "cell_type": "markdown",
   "metadata": {},
   "source": [
    "## Reading corpus files (RST-DT)"
   ]
  },
  {
   "cell_type": "code",
   "execution_count": 17,
   "metadata": {
    "collapsed": false
   },
   "outputs": [
    {
     "name": "stderr",
     "output_type": "stream",
     "text": [
      "Slurping corpus dir [51/53]"
     ]
    },
    {
     "name": "stdout",
     "output_type": "stream",
     "text": [
      "wsj_1365.out: The Justice Department has revised certain interna\n",
      "wsj_0633.out: These are the last words Abbie Hoffman ever uttere\n",
      "wsj_1105.out: CHICAGO - Sears, Roebuck & Co. is struggling as it\n",
      "wsj_1168.out: Wang Laboratories Inc. has sold $25 million of ass\n",
      "wsj_1100.out: Westinghouse Electric Corp. said it will buy Shaw-\n",
      "wsj_1924.out: CALIFORNIA STRUGGLED with the aftermath of a Bay a\n",
      "wsj_0669.out: Nissan Motor Co. expects net income to reach 120 b\n",
      "wsj_0651.out: Nelson Holdings International Ltd. shareholders ap\n",
      "wsj_2309.out: Atco Ltd. said its utilities arm is considering bu\n",
      "wsj_1120.out: Japan has climbed up from the ashes of World War I\n"
     ]
    },
    {
     "name": "stderr",
     "output_type": "stream",
     "text": [
      "\r",
      "Slurping corpus dir [52/53]\r",
      "Slurping corpus dir [53/53 done]\n"
     ]
    }
   ],
   "source": [
    "from __future__ import print_function\n",
    "import educe.rst_dt\n",
    "\n",
    "# relative to the educe docs directory\n",
    "data_dir = '../data'\n",
    "rst_corpus_dir = '{dd}/rst_discourse_treebank/data/RSTtrees-WSJ-double-1.0/'.format(dd=data_dir)\n",
    "\n",
    "# read and load the documents from the WSJ which were double-tagged\n",
    "rst_reader = educe.rst_dt.Reader(rst_corpus_dir)\n",
    "rst_corpus = rst_reader.slurp(verbose=True)\n",
    "\n",
    "# print a text fragment from the first ten files we read\n",
    "for key in rst_corpus.keys()[:10]:\n",
    "    doc = rst_corpus[key]\n",
    "    print(\"{0}: {1}\".format(key.doc, doc.text()[:50]))"
   ]
  },
  {
   "cell_type": "markdown",
   "metadata": {},
   "source": [
    "### Faster reading\n",
    "\n",
    "If you know that you only want to work with a subset of the corpus files, you can pre-filter the corpus before reading the files. \n",
    "\n",
    "It helps to know here that an educe corpus is a mapping from [file id keys](https://educe.readthedocs.org/en/latest/api-doc/educe.html#educe.corpus.FileId) to documents.  The FileId contains the minimally identifying\n",
    "metadata for a document, for example, the document name, or its annotator. \n",
    "For RST-DT, only the `doc` attribute is used. "
   ]
  },
  {
   "cell_type": "code",
   "execution_count": 18,
   "metadata": {
    "collapsed": false
   },
   "outputs": [
    {
     "name": "stdout",
     "output_type": "stream",
     "text": [
      "wsj_0627.out: October employment data -- also could turn out to \n",
      "wsj_0624.out: Costa Rica reached an agreement with its creditor \n"
     ]
    },
    {
     "name": "stderr",
     "output_type": "stream",
     "text": [
      "\r",
      "Slurping corpus dir [0/2]\r",
      "Slurping corpus dir [1/2]\r",
      "Slurping corpus dir [2/2 done]\n"
     ]
    }
   ],
   "source": [
    "rst_subset = rst_reader.filter(rst_reader.files(), \n",
    "                               lambda k:k.doc.startswith(\"wsj_062\"))\n",
    "rst_corpus_subset = rst_reader.slurp(rst_subset, verbose=True)\n",
    "for key in rst_corpus_subset:\n",
    "    doc = rst_corpus_subset[key]\n",
    "    print(\"{0}: {1}\".format(key.doc, doc.text()[:50]))"
   ]
  },
  {
   "cell_type": "markdown",
   "metadata": {},
   "source": [
    "## Trees and annotations\n",
    "\n",
    "RST DT documents are basically trees"
   ]
  },
  {
   "cell_type": "code",
   "execution_count": 19,
   "metadata": {
    "collapsed": false
   },
   "outputs": [
    {
     "data": {
      "image/png": "[encoded data removed]",
      "text/plain": [
       "(Satellite 29-33 elaboration-general-specific\n",
       "  (Nucleus 29-29 span EDU:[At a nationally tele...])\n",
       "  (Satellite 30-33 elaboration-object-attribute-e\n",
       "    (Nucleus 30-30 List EDU:[formally ending one-...])\n",
       "    (Nucleus 31-31 List EDU:[regulating free elec...])\n",
       "    (Nucleus 32-33 List\n",
       "      (Nucleus 32-32 span EDU:[and establishing the...])\n",
       "      (Satellite 33-33 purpose EDU:[to replace a 21-memb...]))))"
      ]
     },
     "metadata": {},
     "output_type": "display_data"
    }
   ],
   "source": [
    "from educe.corpus import FileId\n",
    "# an (ex)ample document\n",
    "ex_key = educe.rst_dt.mk_key(\"wsj_1924.out\")\n",
    "ex_doc = rst_corpus[ex_key] # pick a document from the corpus\n",
    "\n",
    "# display PNG tree\n",
    "from IPython.display import display\n",
    "ex_subtree = ex_doc[2][0][0][1] # navigate down to a small subtree\n",
    "display(ex_subtree) # NLTK > 3.0b1 2013-07-11 should display a PNG image of the RST tree\n",
    "# Mac users: see note below"
   ]
  },
  {
   "cell_type": "markdown",
   "metadata": {},
   "source": [
    "Note for Mac users following along in iPython: if displaying the tree above does not work (particularly if you see a GS prompt in your iPython terminal window instead of an embedded PNG in your browser), try my [NLTK patch](https://github.com/kowey/nltk/commit/4ac4beacff7f9363c84e5d72719e2b5cda8267f2) from 2014-09-17. "
   ]
  },
  {
   "cell_type": "markdown",
   "metadata": {},
   "source": [
    "### Standing off\n",
    "\n",
    "RST DT trees function both as NLTK trees, and as [educe standoff annotations][standoff]. Most annotations in educe can be seen as standoff annotations in some sense; they (perhaps indirectly) extend `educe.annotation.Standoff` and provide a `text_span()` function. Comparing annotations usually consists of comparing their text spans.\n",
    "\n",
    "Text spans in the RST DT corpus refer to the source document beneath each tree file, eg. for the tree file `wsj_1111.out.dis`, educe reads `wsj_1111.out` as its source text. (The source text is somewhat optional as the RST trees themselves contain text, but this tends to have subtle differences with its underlying source).  Below, we see an example of one of these source documents.\n",
    "\n",
    "[standoff]: http://educe.readthedocs.org/en/latest/api-doc/educe.html#educe.annotation.Standoff"
   ]
  },
  {
   "cell_type": "code",
   "execution_count": 20,
   "metadata": {
    "collapsed": false
   },
   "outputs": [
    {
     "name": "stdout",
     "output_type": "stream",
     "text": [
      "At a nationally televised legislative session in Budapest, the Parliament overwhelmingly approved changes formally ending one-party domination in the country, regulating free elections by next summer and establishing the office of state president to replace a 21-member council.\n",
      "The country was renamed the Republic of Hungary.\n",
      "Like other Soviet bloc nations, it had been known as a \"people's republic\" since \n",
      "\n",
      "The voting for new laws followed dissolution of Hungary's Communist Party this month and \n"
     ]
    }
   ],
   "source": [
    "ex_rst_txt_filename = '{corpus}/{doc}'.format(corpus=rst_corpus_dir,\n",
    "                                              doc=ex_key.doc)\n",
    "\n",
    "with open(ex_rst_txt_filename) as ifile:\n",
    "    ex_txt = ifile.read()\n",
    "    ex_snippet_start = ex_txt.find(\"At a national\")\n",
    "    print(ex_txt[ex_snippet_start:ex_snippet_start + 500])"
   ]
  },
  {
   "cell_type": "markdown",
   "metadata": {},
   "source": [
    "Now let's have a closer look at the annotations themselves."
   ]
  },
  {
   "cell_type": "code",
   "execution_count": 21,
   "metadata": {
    "collapsed": false
   },
   "outputs": [],
   "source": [
    "# it may be useful to have a couple of helper functions to\n",
    "# display standoff annotations in a generic way\n",
    "def text_snippet(text):\n",
    "    \"short text fragment\"\n",
    "    if len(text) < 43:\n",
    "        return text\n",
    "    else:\n",
    "        return \"{0}...{1}\".format(text[:20], text[-20:])\n",
    "\n",
    "def preview_standoff(tystr, context, anno):\n",
    "    \"simple glimpse at a standoff annotation\"\n",
    "    span = anno.text_span()\n",
    "    text = context.text(span)\n",
    "    return \"{tystr} at {span}:\\t{snippet}\".format(tystr=tystr,\n",
    "                                                 span=span,\n",
    "                                                 snippet=text_snippet(text))"
   ]
  },
  {
   "cell_type": "markdown",
   "metadata": {},
   "source": [
    "### EDUs and subtrees"
   ]
  },
  {
   "cell_type": "code",
   "execution_count": 22,
   "metadata": {
    "collapsed": false
   },
   "outputs": [
    {
     "name": "stdout",
     "output_type": "stream",
     "text": [
      "Some edus\n",
      "EDU at (1504,1609):\tAt a nationally tele...gly approved changes\n",
      "EDU at (1610,1662):\tformally ending one-...tion in the country,\n",
      "EDU at (1663,1703):\tregulating free elections by next summer\n",
      "EDU at (1704,1750):\tand establishing the...e of state president\n",
      "EDU at (1751,1782):\tto replace a 21-member council.\n",
      "\n",
      "Some subtrees\n",
      "S elaboration-general-specific   at (1504,1782):\tAt a nationally tele...a 21-member council.\n",
      "N span                           at (1504,1609):\tAt a nationally tele...gly approved changes\n",
      "S elaboration-object-attribute-e at (1610,1782):\tformally ending one-...a 21-member council.\n",
      "N List                           at (1610,1662):\tformally ending one-...tion in the country,\n",
      "N List                           at (1663,1703):\tregulating free elections by next summer\n",
      "N List                           at (1704,1782):\tand establishing the...a 21-member council.\n",
      "N span                           at (1704,1750):\tand establishing the...e of state president\n",
      "S purpose                        at (1751,1782):\tto replace a 21-member council.\n"
     ]
    }
   ],
   "source": [
    "# in educe RST/DT all annotations have a shared context object\n",
    "# that refers to an RST document; you don't always need to use\n",
    "# it, but it can be handy for writing general code like the\n",
    "# above\n",
    "ex_context = ex_doc.label().context\n",
    "\n",
    "# display some edus\n",
    "print(\"Some edus\")\n",
    "edus = ex_subtree.leaves()\n",
    "for edu in edus:\n",
    "    print(preview_standoff(\"EDU\", ex_context, edu))\n",
    "    \n",
    "print(\"\\nSome subtrees\")\n",
    "# display some RST subtrees and the edus they enclose\n",
    "for subtree in ex_subtree.subtrees():\n",
    "    node = subtree.label()\n",
    "    stat = \"N\" if node.is_nucleus() else \"S\"\n",
    "    label = \"{stat} {rel: <30}\".format(stat=stat,\n",
    "                                  rel=node.rel)\n",
    "    print(preview_standoff(label, ex_context, subtree))"
   ]
  },
  {
   "cell_type": "markdown",
   "metadata": {},
   "source": [
    "### Paragraphs and sentences\n",
    "\n",
    "Going back to the source text, we can notice that it seems to be divided into sentences and paragraphs with line separators.  This does not seem to be done very consistently, and in any case, RST constituents seem to traverse these boundaries freely.  But they can still make for useful standoff annotations."
   ]
  },
  {
   "cell_type": "code",
   "execution_count": 23,
   "metadata": {
    "collapsed": false
   },
   "outputs": [
    {
     "name": "stdout",
     "output_type": "stream",
     "text": [
      "paragraph at (862,1288):\tThe 77-year-old offi...o-democracy groups. \n",
      "\tsentence at (862,1029):\tThe 77-year-old offi...ttee in East Berlin.\n",
      "\tsentence at (1030,1144):\tHonecker, who was re... for health reasons.\n",
      "\tsentence at (1145,1288):\tHe was succeeded by ...o-democracy groups. \n",
      "paragraph at (1290,1432):\tHonecker's departure...nted with his rule. \n",
      "\tsentence at (1290,1432):\tHonecker's departure...nted with his rule. \n",
      "paragraph at (1434,1502):\tHUNGARY ADOPTED cons... democratic system. \n",
      "\tsentence at (1434,1502):\tHUNGARY ADOPTED cons... democratic system. \n",
      "paragraph at (1504,1913):\tAt a nationally tele...e's republic\" since \n",
      "\tsentence at (1504,1782):\tAt a nationally tele...a 21-member council.\n",
      "\tsentence at (1783,1831):\tThe country was rena...Republic of Hungary.\n",
      "\tsentence at (1832,1913):\tLike other Soviet bl...e's republic\" since \n"
     ]
    }
   ],
   "source": [
    "for para in ex_context.paragraphs[4:8]:\n",
    "    print(preview_standoff(\"paragraph\", ex_context, para))\n",
    "    for sent in para.sentences:\n",
    "        print(\"\\t\" + preview_standoff(\"sentence\", ex_context, sent))"
   ]
  },
  {
   "cell_type": "markdown",
   "metadata": {},
   "source": [
    "## Penn Treebank integration\n",
    "\n",
    "RST DT annotations are mostly over Wall Street Journal articles from the Penn Treebank. If you have a copy of the latter at the ready, you can ask educe to read and align the two (ie. PTB annotations treated as standing off the RST source text).  This alignment consists of some universal substitutions (eg. `-LBR-` to `(`) and with a [bit of hardcoding][ugh] to account for seemingly random differences in whitespace/punctuation.\n",
    "\n",
    "[ugh]: https://github.com/kowey/educe/blob/master/educe/rst_dt/ptb.py\n"
   ]
  },
  {
   "cell_type": "code",
   "execution_count": 24,
   "metadata": {
    "collapsed": false
   },
   "outputs": [
    {
     "name": "stdout",
     "output_type": "stream",
     "text": [
      "(S\n",
      "  (NP-SBJ\n",
      "    (DT <educe.external.postag.Token object at 0x10e41ecd0>)\n",
      "    (NNP <educe.external.postag.Token object at 0x10e41ee10>)\n",
      "    (NNP <educe.external.postag.Token object at 0x10e41ef50>))\n",
      "  (VP\n",
      "    (VBZ <educe.external.postag.Token object at 0x10e41efd0>)\n",
      "    (VP\n",
      "      (VP\n",
      "        (VBN <educe.external.postag.Token object at 0x10e41ef90>)\n",
      "        (NP\n",
      "          (JJ <educe.external.postag.\n"
     ]
    }
   ],
   "source": [
    "from educe.rst_dt import ptb\n",
    "from nltk.tree import Tree\n",
    "\n",
    "# confusingly, this is not an educe corpus reader, but the NLTK\n",
    "# bracketed reader.  Sorry\n",
    "ptb_reader = ptb.reader('{dd}/PTBIII/parsed/mrg/wsj/'.format(dd=data_dir))\n",
    "ptb_trees = {}\n",
    "for key in rst_corpus:\n",
    "    ptb_trees[key] = ptb.parse_trees(rst_corpus, key, ptb_reader)\n",
    "\n",
    "# pick and display an arbitary ptb tree\n",
    "ex0_ptb_tree = ptb_trees[rst_corpus.keys()[0]][0]\n",
    "print(ex0_ptb_tree.pprint()[:400])"
   ]
  },
  {
   "cell_type": "markdown",
   "metadata": {},
   "source": [
    "The result of this alignment is an educe `ConstituencyTree`, the leaves of which are educe `Token` objects.  We'll say a little bit more about these below."
   ]
  },
  {
   "cell_type": "code",
   "execution_count": 25,
   "metadata": {
    "collapsed": false
   },
   "outputs": [
    {
     "name": "stdout",
     "output_type": "stream",
     "text": [
      "(S\n",
      "  (NP-SBJ\n",
      "    (DT The/DT\t(0,3))\n",
      "    (NNP Justice/NNP\t(4,11))\n",
      "    (NNP Department/NNP\t(12,22)))\n",
      "  (VP\n",
      "    (VBZ has/VBZ\t(23,26))\n",
      "    (VP\n",
      "      (VP\n",
      "        (VBN revised/VBN\t(27,34))\n",
      "        (NP\n",
      "          (JJ certain/JJ\t(35,42))\n",
      "          (JJ internal/JJ\t(43,51))\n",
      "          (NNS guidelines/NNS\t(52,62))))\n",
      "      (CC and/CC\t(63,66))\n",
      "      (VP (VBN clarified/VBN\t(67,76)) (NP (NNS others/NNS\t(77,83))))\n",
      " \n"
     ]
    }
   ],
   "source": [
    "# show what's beneath these educe tokens\n",
    "def str_tree(tree):\n",
    "    if isinstance(tree, Tree):\n",
    "        return Tree(str(tree.label()), map(str_tree, tree))\n",
    "    else:\n",
    "        return str(tree)\n",
    "\n",
    "print(str_tree(ex0_ptb_tree).pprint()[:400])"
   ]
  },
  {
   "cell_type": "markdown",
   "metadata": {},
   "source": [
    "## Combining annotations\n",
    "\n",
    "We now have several types of annotation at our disposal:\n",
    "\n",
    "* EDUs and RST trees\n",
    "* raw text paragraph/sentences (not terribly reliable)\n",
    "* PTB trees\n",
    "\n",
    "The next question that arises is how we can use these annotations in conjuction with each other.\n",
    "\n",
    "### Span enclosure and overlapping\n",
    "\n",
    "The simplest way to reason about annotations (particularly since they tend to be sloppy and to overlap).  Suppose for example, we wanted to find all of the edus in a tree that are in the same sentence as an given edu. "
   ]
  },
  {
   "cell_type": "code",
   "execution_count": 26,
   "metadata": {
    "collapsed": false
   },
   "outputs": [
    {
     "name": "stdout",
     "output_type": "stream",
     "text": [
      "example EDU at (1704,1750):\tand establishing the...e of state president\n",
      "overlapping sentence at (1504,1782):\tAt a nationally tele...a 21-member council.\n",
      "\tnearby EDU at (1504,1609):\tAt a nationally tele...gly approved changes\n",
      "\tnearby EDU at (1610,1662):\tformally ending one-...tion in the country,\n",
      "\tnearby EDU at (1663,1703):\tregulating free elections by next summer\n",
      "\tnearby EDU at (1751,1782):\tto replace a 21-member council.\n"
     ]
    }
   ],
   "source": [
    "from itertools import chain\n",
    "\n",
    "# pick an EDU, any edu\n",
    "ex_edus = ex_subtree.leaves()\n",
    "ex_edu0 = ex_edus[3]\n",
    "print(preview_standoff('example EDU', ex_context, ex_edu0))\n",
    "\n",
    "# all of the sentences in the example document\n",
    "ex_sents = list(chain.from_iterable(x.sentences for x in ex_context.paragraphs))\n",
    "\n",
    "# sentences that overlap the edu\n",
    "# (we use overlaps instead of encloses because edus might\n",
    "# span sentence boundaries)\n",
    "ex_edu0_sents = [x for x in ex_sents if x.overlaps(ex_edu0)]\n",
    "\n",
    "# and now the edus that overlap those sentences\n",
    "ex_edu0_buddies = []\n",
    "for sent in ex_edu0_sents:\n",
    "    print(preview_standoff('overlapping sentence', ex_context, sent))\n",
    "    buddies = [x for x in ex_edus if x.overlaps(sent)]\n",
    "    buddies.remove(ex_edu0)\n",
    "    for edu in buddies:\n",
    "        print(preview_standoff('\\tnearby EDU', ex_context, edu))\n",
    "    ex_edu0_buddies.extend(buddies)"
   ]
  },
  {
   "cell_type": "markdown",
   "metadata": {},
   "source": [
    "### Span example 2 (exercise)\n",
    "\n",
    "As an exercise, how about extracting the PTB part of speech tags for every token in our example EDU?  How for example, would you determine if an EDU contains a VBG-tagged word?"
   ]
  },
  {
   "cell_type": "code",
   "execution_count": 27,
   "metadata": {
    "collapsed": false
   },
   "outputs": [
    {
     "name": "stdout",
     "output_type": "stream",
     "text": [
      "some of the POS tags\n",
      "VBG at (1663,1673):\tregulating\n",
      "JJ at (1674,1678):\tfree\n",
      "NNS at (1679,1688):\telections\n",
      "IN at (1689,1691):\tby\n",
      "JJ at (1692,1696):\tnext\n",
      "NN at (1697,1703):\tsummer\n",
      "CC at (1704,1707):\tand\n",
      "VBG at (1708,1720):\testablishing\n",
      "DT at (1721,1724):\tthe\n",
      "NN at (1725,1731):\toffice\n",
      "\n",
      "has VBG? \n"
     ]
    }
   ],
   "source": [
    "ex_postags = list(chain.from_iterable(t.leaves() for t in ptb_trees[ex_key]))\n",
    "\n",
    "print(\"some of the POS tags\")\n",
    "for postag in ex_postags[300:310]:\n",
    "    print(preview_standoff(postag.tag, ex_context, postag))\n",
    "    \n",
    "print()\n",
    "ex_edu0_postags = [] # EXERCISE <-- fill this in\n",
    "print(\"has VBG? \", ) # EXERCISE <-- fill this in"
   ]
  },
  {
   "cell_type": "markdown",
   "metadata": {},
   "source": [
    "### Tree searching\n",
    "\n",
    "The same span enclosure logic can be used to search parse trees for particular constituents, verb phrases. Alternatively, you can use the the `topdown` method provided by educe trees. This returns just the largest constituent for which some predicate is true.  It optionally accepts an additional argument to cut off the search when it is clearly out of bounds."
   ]
  },
  {
   "cell_type": "code",
   "execution_count": 28,
   "metadata": {
    "collapsed": false
   },
   "outputs": [
    {
     "name": "stdout",
     "output_type": "stream",
     "text": [
      "ptb tree at (1504,1782):\tAt a nationally tele...a 21-member council.\n",
      "CC at (1704,1707):\tand\n",
      "VBG at (1708,1720):\testablishing\n",
      "NP at (1721,1731):\tthe office\n",
      "PP at (1732,1750):\tof state president\n",
      "WHNP-1 at (1750,1750):\t\n",
      "NP-SBJ at (1750,1750):\t\n"
     ]
    },
    {
     "data": {
      "image/png": "[encoded data removed]",
      "text/plain": [
       "ConstituencyTree('PP', [ConstituencyTree('IN', [<educe.external.postag.Token object at 0x10c751f50>]), ConstituencyTree('NP', [ConstituencyTree('NN', [<educe.external.postag.Token object at 0x10c746050>]), ConstituencyTree('NN', [<educe.external.postag.Token object at 0x10c746110>])])])"
      ]
     },
     "metadata": {},
     "output_type": "display_data"
    }
   ],
   "source": [
    "ex_ptb_trees = ptb_trees[ex_key]\n",
    "ex_edu0_ptb_trees = [x for x in ex_ptb_trees if x.overlaps(ex_edu0)]\n",
    "ex_edu0_cons = []\n",
    "for ptree in ex_edu0_ptb_trees:\n",
    "    print(preview_standoff('ptb tree', ex_context, ptree))\n",
    "    ex_edu0_cons.extend(ptree.topdown(lambda c: ex_edu0.encloses(c)))\n",
    "    \n",
    "# the largest constituents enclosed by this edu\n",
    "for cons in ex_edu0_cons:\n",
    "    print(preview_standoff(cons.label(), ex_context, cons))\n",
    "    \n",
    "display(ex_edu0_cons[3])"
   ]
  },
  {
   "cell_type": "markdown",
   "metadata": {},
   "source": [
    "## Simplified trees\n",
    "\n",
    "The tree representation used in the RST DT can take some getting used to (relation labels are placed on the satellite rather than the root of a subtree). You may prefer to work with the simplified representation instead.  In the simple representation, trees are binarised and relation labels are moved to the root node.  Compare for example, the two versions of the same RST subtree."
   ]
  },
  {
   "cell_type": "code",
   "execution_count": 29,
   "metadata": {
    "collapsed": false
   },
   "outputs": [
    {
     "name": "stdout",
     "output_type": "stream",
     "text": [
      "Corpus representation\n",
      "\n",
      "\n"
     ]
    },
    {
     "data": {
      "image/png": "[encoded data removed]",
      "text/plain": [
       "(Satellite 29-33 elaboration-general-specific\n",
       "  (Nucleus 29-29 span EDU:[At a nationally tele...])\n",
       "  (Satellite 30-33 elaboration-object-attribute-e\n",
       "    (Nucleus 30-30 List EDU:[formally ending one-...])\n",
       "    (Nucleus 31-31 List EDU:[regulating free elec...])\n",
       "    (Nucleus 32-33 List\n",
       "      (Nucleus 32-32 span EDU:[and establishing the...])\n",
       "      (Satellite 33-33 purpose EDU:[to replace a 21-memb...]))))"
      ]
     },
     "metadata": {},
     "output_type": "display_data"
    },
    {
     "name": "stdout",
     "output_type": "stream",
     "text": [
      "Simplified (binarised, rotated) representation\n",
      "\n",
      "\n"
     ]
    },
    {
     "data": {
      "image/png": "[encoded data removed]",
      "text/plain": [
       "SimpleRSTTree(Satellite 29-33 elaboration-object-attribute-e, [SimpleRSTTree(Nucleus 29-29 leaf, [EDU:[At a nationally tele...]]), SimpleRSTTree(Satellite 30-33 List, [SimpleRSTTree(Nucleus 30-30 leaf, [EDU:[formally ending one-...]]), SimpleRSTTree(Nucleus 31-33 List, [SimpleRSTTree(Nucleus 31-31 leaf, [EDU:[regulating free elec...]]), SimpleRSTTree(Nucleus 32-33 purpose, [SimpleRSTTree(Nucleus 32-32 leaf, [EDU:[and establishing the...]]), SimpleRSTTree(Satellite 33-33 leaf, [EDU:[to replace a 21-memb...]])])])])])"
      ]
     },
     "metadata": {},
     "output_type": "display_data"
    }
   ],
   "source": [
    "# rearrange the tree so that it is easier to work with\n",
    "ex_simple_subtree = educe.rst_dt.SimpleRSTTree.from_rst_tree(ex_subtree)\n",
    "print('Corpus representation\\n\\n')\n",
    "display(ex_subtree)\n",
    "print('Simplified (binarised, rotated) representation\\n\\n')\n",
    "display(ex_simple_subtree)"
   ]
  },
  {
   "cell_type": "markdown",
   "metadata": {},
   "source": [
    "## Dependency trees and back\n",
    "\n",
    "Educe also provides an experimental conversion between simplified trees above and dependency trees.  See the [educe.rst_dt.deptree](https://educe.readthedocs.org/en/latest/api-doc/educe.rst_dt.html#module-educe.rst_dt.deptree) for the algorithm used.\n",
    "\n",
    "Our current example is a little too small to give a sense of what the resulting dependency tree might look like, so we'll back up slightly closer to the root to have a wider view."
   ]
  },
  {
   "cell_type": "code",
   "execution_count": 30,
   "metadata": {
    "collapsed": false
   },
   "outputs": [
    {
     "data": {
      "image/png": "[encoded data removed]",
      "text/plain": [
       "Tree(EDU:[HUNGARY ADOPTED cons...] [27], [Tree(purpose: EDU:[to form a democratic...] [28], []), Tree(elaboration-general-specific: EDU:[At a nationally tele...] [29], [Tree(elaboration-object-attribute-e: EDU:[formally ending one-...] [30], [Tree(List: EDU:[regulating free elec...] [31], [Tree(List: EDU:[and establishing the...] [32], [Tree(purpose: EDU:[to replace a 21-memb...] [33], [])])])])]), Tree(consequence-s: EDU:[The country was rena...] [34], [Tree(background: EDU:[Like other Soviet bl...] [35], [])]), Tree(circumstance: EDU:[The voting for new l...] [36], [])])"
      ]
     },
     "metadata": {},
     "output_type": "display_data"
    }
   ],
   "source": [
    "from educe.rst_dt import deptree\n",
    "\n",
    "ex_subtree2 = ex_doc[2]\n",
    "ex_simple_subtree2 = educe.rst_dt.SimpleRSTTree.from_rst_tree(ex_subtree2)\n",
    "ex_deptree2 = deptree.relaxed_nuclearity_to_deptree(ex_simple_subtree2)\n",
    "display(ex_deptree2)"
   ]
  },
  {
   "cell_type": "markdown",
   "metadata": {},
   "source": [
    "Going back to our original example, we can (lossily) convert back from these dependency tree representations to RST trees. The dependency trees have some ambiguities in them that we can't resolve without an oracle, but we can at least make some guesses.  Note that when converting back to RST, we need to supply a list of relation labels that should be treated as multinuclear."
   ]
  },
  {
   "cell_type": "code",
   "execution_count": 31,
   "metadata": {
    "collapsed": false
   },
   "outputs": [
    {
     "data": {
      "image/png": "[encoded data removed]",
      "text/plain": [
       "SimpleRSTTree(Root 29-33 elaboration-object-attribute-e, [SimpleRSTTree(Nucleus 29-29 leaf, [EDU:[At a nationally tele...]]), SimpleRSTTree(Satellite 30-33 List, [SimpleRSTTree(Nucleus 30-30 leaf, [EDU:[formally ending one-...]]), SimpleRSTTree(Nucleus 31-33 List, [SimpleRSTTree(Nucleus 31-31 leaf, [EDU:[regulating free elec...]]), SimpleRSTTree(Nucleus 32-33 purpose, [SimpleRSTTree(Nucleus 32-32 leaf, [EDU:[and establishing the...]]), SimpleRSTTree(Satellite 33-33 leaf, [EDU:[to replace a 21-memb...]])])])])])"
      ]
     },
     "metadata": {},
     "output_type": "display_data"
    }
   ],
   "source": [
    "ex_deptree = deptree.relaxed_nuclearity_to_deptree(ex_simple_subtree)\n",
    "ex_from_deptree = deptree.relaxed_nuclearity_from_deptree(ex_deptree, [\"list\"]) # multinuclear in lowercase\n",
    "display(ex_from_deptree)"
   ]
  },
  {
   "cell_type": "markdown",
   "metadata": {},
   "source": [
    "## Conclusion\n",
    "\n",
    "In this tutorial, we've explored a couple of basic educe concepts, which we hope will enable you to extract some data from your discourse corpora, namely\n",
    "\n",
    "* reading corpus data (and pre-filtering)\n",
    "* standoff annotations\n",
    "* searching by span enclosure, overlapping\n",
    "* working with trees\n",
    "* combining annotations from different sources\n",
    "\n",
    "The concepts above should transfer to whatever discourse corpus you are working with (that educe supports, or that you are prepared to supply a reader for).\n",
    "\n",
    "That said, some of the features mentioned in particular tutorial are specific to the RST DT:\n",
    "\n",
    "* simplifying RST trees\n",
    "* converting them to dependency trees\n",
    "* PTB integration\n",
    "\n",
    "This tutorial was last updated on 2014-09-18.\n",
    "Educe is a bit of a moving target, so [let me know](https://github.com/kowey/educe/issues) if you run into any trouble!\n",
    "\n",
    "### See also\n",
    "\n",
    "#### rst-dt-util\n",
    "\n",
    "Some of the things you may want to do with the RST DT may already exist in the rst-dt-util command line tool.  See `rst-dt-util --help` for more details.\n",
    "\n",
    "(At the time of this writing the only really useful tool is the rst-dt-util reltypes one, which prints an inventory of relation labels, but the utility may grow over time)\n",
    "\n",
    "#### External tool support\n",
    "\n",
    "Educe has some support for reading data from outside the discourse corpus proper.  For example, if you run the stanford corenlp parser on the raw text, you can read them back into educe-style `ConstituencyTree` and `DependencyTree` annotations. See [educe.external](https://educe.readthedocs.org/en/latest/api-doc/educe.external.html) for details.\n",
    "\n",
    "If you have a part of speech tagger that you would like to use, the `educe.external.postag` module may be useful for representing the annotations that come out of it\n",
    "\n",
    "You can also add support for your own tools by creating annotations that extend `Standoff`, directly or otherwise."
   ]
  }
 ],
 "metadata": {
  "kernelspec": {
   "display_name": "Python 2",
   "language": "python",
   "name": "python2"
  },
  "language_info": {
   "codemirror_mode": {
    "name": "ipython",
    "version": 2
   },
   "file_extension": ".py",
   "mimetype": "text/x-python",
   "name": "python",
   "nbconvert_exporter": "python",
   "pygments_lexer": "ipython2",
   "version": "2.7.9"
  }
 },
 "nbformat": 4,
 "nbformat_minor": 0
}
