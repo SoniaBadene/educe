{
 "metadata": {
  "name": "",
  "signature": "sha256:f825d823bd1e6d4fef2c248f7eef49a4c80d1cf89f5812ebe9e02626a06f1e38"
 },
 "nbformat": 3,
 "nbformat_minor": 0,
 "worksheets": [
  {
   "cells": [
    {
     "cell_type": "markdown",
     "metadata": {},
     "source": [
      "Educe\n",
      "======\n",
      "\n",
      "[Educe][educe] is a library for working with a variety of discourse corpora.\n",
      "This tutorial aims to show what using educe would be like.\n",
      "\n",
      "Installation\n",
      "-------------\n",
      "\n",
      "```shell\n",
      "git clone git@github.com:kowey/educe.git\n",
      "cd educe\n",
      "pip install -r requirements.txt .\n",
      "```\n",
      "\n",
      "Note: these instructions assume you are running within\n",
      "a [virtual environment][virtualenv].\n",
      "If not, and if you have permission\n",
      "denied errors, replace `pip` with `sudo pip`.\n",
      "\n",
      "Tutorial in browser (optional)\n",
      "------------------------------\n",
      "\n",
      "This tutorial can either be followed along with the command line and your favourite\n",
      "text editor, or embedded in an interactive webpage via iPython:\n",
      "\n",
      "```shell\n",
      "pip install ipython\n",
      "cd docs\n",
      "ipython notebook\n",
      "```\n",
      "\n",
      "[educe]: http://kowey.github.io/educe\n",
      "[virtualenv]: http://virtualenv.readthedocs.org/en/latest/\n"
     ]
    },
    {
     "cell_type": "markdown",
     "metadata": {},
     "source": [
      "## Data setup\n",
      "\n",
      "RST-DT portions of this tutorial require that you have a local copy of the RST Discourse Treebank. For purposes of this tutorial, you will need to link this into the data directory, for example\n",
      "\n",
      "```shell\n",
      "ln -s $HOME/CORPORA/rst_discourse_treebank/data\n",
      "```"
     ]
    },
    {
     "cell_type": "code",
     "collapsed": false,
     "input": [
      "data_dir = '../data'  # relative to the educe docs directory"
     ],
     "language": "python",
     "metadata": {},
     "outputs": [],
     "prompt_number": 1
    },
    {
     "cell_type": "markdown",
     "metadata": {},
     "source": [
      "## Reading corpus files (RST-DT)"
     ]
    },
    {
     "cell_type": "code",
     "collapsed": false,
     "input": [
      "import educe.rst_dt\n",
      "# read and load the documents from the WSJ which were double-tagged\n",
      "rst_reader = educe.rst_dt.Reader('{dd}/rst_discourse_treebank/data/RSTtrees-WSJ-double-1.0/'.format(dd=data_dir))\n",
      "rst_corpus = rst_reader.slurp(verbose=True)\n",
      "\n",
      "# print a text fragment from the first ten files we read\n",
      "for key in rst_corpus.keys():\n",
      "    doc = rst_corpus[key]\n",
      "    if educe.rst_dt.is_binary(doc):\n",
      "        continue\n",
      "    print(\"[{0}] {1}\".format(key, doc.text()[:50]))"
     ],
     "language": "python",
     "metadata": {},
     "outputs": [
      {
       "output_type": "stream",
       "stream": "stderr",
       "text": [
        "\r",
        "Slurping corpus dir [0/53]\r",
        "Slurping corpus dir [1/53]\r",
        "Slurping corpus dir [2/53]"
       ]
      },
      {
       "output_type": "stream",
       "stream": "stderr",
       "text": [
        "\r",
        "Slurping corpus dir [3/53]\r",
        "Slurping corpus dir [4/53]\r",
        "Slurping corpus dir [5/53]\r",
        "Slurping corpus dir [6/53]"
       ]
      },
      {
       "output_type": "stream",
       "stream": "stderr",
       "text": [
        "\r",
        "Slurping corpus dir [7/53]\r",
        "Slurping corpus dir [8/53]\r",
        "Slurping corpus dir [9/53]\r",
        "Slurping corpus dir [10/53]\r",
        "Slurping corpus dir [11/53]"
       ]
      },
      {
       "output_type": "stream",
       "stream": "stderr",
       "text": [
        "\r",
        "Slurping corpus dir [12/53]\r",
        "Slurping corpus dir [13/53]\r",
        "Slurping corpus dir [14/53]\r",
        "Slurping corpus dir [15/53]\r",
        "Slurping corpus dir [16/53]\r",
        "Slurping corpus dir [17/53]"
       ]
      },
      {
       "output_type": "stream",
       "stream": "stderr",
       "text": [
        "\r",
        "Slurping corpus dir [18/53]\r",
        "Slurping corpus dir [19/53]\r",
        "Slurping corpus dir [20/53]\r",
        "Slurping corpus dir [21/53]"
       ]
      },
      {
       "output_type": "stream",
       "stream": "stderr",
       "text": [
        "\r",
        "Slurping corpus dir [22/53]\r",
        "Slurping corpus dir [23/53]\r",
        "Slurping corpus dir [24/53]\r",
        "Slurping corpus dir [25/53]"
       ]
      },
      {
       "output_type": "stream",
       "stream": "stderr",
       "text": [
        "\r",
        "Slurping corpus dir [26/53]\r",
        "Slurping corpus dir [27/53]\r",
        "Slurping corpus dir [28/53]"
       ]
      },
      {
       "output_type": "stream",
       "stream": "stderr",
       "text": [
        "\r",
        "Slurping corpus dir [29/53]\r",
        "Slurping corpus dir [30/53]\r",
        "Slurping corpus dir [31/53]\r",
        "Slurping corpus dir [32/53]\r",
        "Slurping corpus dir [33/53]\r",
        "Slurping corpus dir [34/53]\r",
        "Slurping corpus dir [35/53]"
       ]
      },
      {
       "output_type": "stream",
       "stream": "stderr",
       "text": [
        "\r",
        "Slurping corpus dir [36/53]\r",
        "Slurping corpus dir [37/53]\r",
        "Slurping corpus dir [38/53]\r",
        "Slurping corpus dir [39/53]"
       ]
      },
      {
       "output_type": "stream",
       "stream": "stderr",
       "text": [
        "\r",
        "Slurping corpus dir [40/53]\r",
        "Slurping corpus dir [41/53]\r",
        "Slurping corpus dir [42/53]\r",
        "Slurping corpus dir [43/53]\r",
        "Slurping corpus dir [44/53]\r",
        "Slurping corpus dir [45/53]"
       ]
      },
      {
       "output_type": "stream",
       "stream": "stderr",
       "text": [
        "\r",
        "Slurping corpus dir [46/53]\r",
        "Slurping corpus dir [47/53]\r",
        "Slurping corpus dir [48/53]\r",
        "Slurping corpus dir [49/53]\r",
        "Slurping corpus dir [50/53]"
       ]
      },
      {
       "output_type": "stream",
       "stream": "stderr",
       "text": [
        "\r",
        "Slurping corpus dir [51/53]\r",
        "Slurping corpus dir [52/53]"
       ]
      },
      {
       "output_type": "stream",
       "stream": "stdout",
       "text": [
        "[wsj_0633.out [None] discourse unknown] These are the last words Abbie Hoffman ever uttere\n",
        "[wsj_1105.out [None] discourse unknown] CHICAGO - Sears, Roebuck & Co. is struggling as it\n",
        "[wsj_1924.out [None] discourse unknown] CALIFORNIA STRUGGLED with the aftermath of a Bay a\n",
        "[wsj_0651.out [None] discourse unknown] Nelson Holdings International Ltd. shareholders ap\n",
        "[wsj_1120.out [None] discourse unknown] Japan has climbed up from the ashes of World War I\n",
        "[wsj_1930.out [None] discourse unknown] INSURERS ARE FACING billions of dollars in damage \n",
        "[wsj_0657.out [None] discourse unknown] Nikon Corp. said unconsolidated pretax profit incr\n",
        "[wsj_1944.out [None] discourse unknown] Mutual-fund czar John M. Templeton has put his mon\n",
        "[wsj_1998.out [None] discourse unknown] Olin Corp. said third-quarter net income rose 26% \n",
        "[wsj_1322.out [None] discourse unknown] The bond market, which sometimes thrives on bad ne\n",
        "[wsj_1387.out [None] discourse unknown] Yet another political scandal is racking Japan.\n",
        "Bu\n",
        "[wsj_2349.out [None] discourse unknown] The following issues were recently filed with the \n",
        "[wsj_2303.out [None] discourse unknown] A consortium of private investors operating as LJH\n",
        "[wsj_2356.out [None] discourse unknown] SOUTH AFRICA FREED the ANC's Sisulu and seven othe\n",
        "[wsj_1159.out [None] discourse unknown] The Justice Department scrambled to play down the \n",
        "[wsj_2367.out [None] discourse unknown] This small Dallas suburb's got trouble.\n",
        "Trouble wi\n",
        "[wsj_1162.out [None] discourse unknown] People start their own businesses for many reasons\n",
        "[wsj_1980.out [None] discourse unknown] Prospect Group Inc., whose recent hostile tender o\n",
        "[wsj_1135.out [None] discourse unknown] The Bush administration said it is submitting a \"c\n",
        "[wsj_1394.out [None] discourse unknown] Ralph Brown was 31,000 feet over Minnesota when bo\n",
        "[wsj_1123.out [None] discourse unknown] Blue-chip advertisers have plenty of complaints ab\n",
        "[wsj_1372.out [None] discourse unknown] Qintex Australia Ltd., a media and resorts concern\n",
        "[wsj_1314.out [None] discourse unknown] Investors dumped stocks of big companies whose ear\n",
        "[wsj_1335.out [None] discourse unknown] The dollar weakened in indecisive trading as forei\n"
       ]
      },
      {
       "output_type": "stream",
       "stream": "stderr",
       "text": [
        "\r",
        "Slurping corpus dir [53/53 done]\n"
       ]
      }
     ],
     "prompt_number": 17
    },
    {
     "cell_type": "markdown",
     "metadata": {},
     "source": [
      "----\n",
      "An educe corpus is a mapping from [file id keys](https://educe.readthedocs.org/en/latest/api-doc/educe.html#educe.corpus.FileId) to documents.  The FileId contains the minimally identifying\n",
      "metadata for a document, for example, the document name, or its annotator. \n",
      "For RST-DT, only the `doc` attribute is used.                                       "
     ]
    },
    {
     "cell_type": "markdown",
     "metadata": {},
     "source": [
      "### Faster reading\n",
      "\n",
      "If you know that you only want to work with a subset of the corpus files, you can pre-filter the corpus before reading the files."
     ]
    },
    {
     "cell_type": "code",
     "collapsed": false,
     "input": [
      "rst_subset = rst_reader.filter(rst_reader.files(), \n",
      "                               lambda k:k.doc.startswith(\"wsj_062\"))\n",
      "rst_corpus_subset = rst_reader.slurp(rst_subset, verbose=True)\n",
      "for key in rst_corpus_subset:\n",
      "    doc = rst_corpus_subset[key]\n",
      "    print(\"{0}: {1}\".format(key.doc, doc.text()[:50]))"
     ],
     "language": "python",
     "metadata": {},
     "outputs": [
      {
       "output_type": "stream",
       "stream": "stderr",
       "text": [
        "\r",
        "Slurping corpus dir [0/2]\r",
        "Slurping corpus dir [1/2]\r",
        "Slurping corpus dir [2/2 done]\n"
       ]
      },
      {
       "output_type": "stream",
       "stream": "stdout",
       "text": [
        "wsj_0627.out: October employment data -- also could turn out to \n",
        "wsj_0624.out: Costa Rica reached an agreement with its creditor \n"
       ]
      }
     ],
     "prompt_number": 3
    },
    {
     "cell_type": "markdown",
     "metadata": {},
     "source": [
      "## Working with trees"
     ]
    },
    {
     "cell_type": "markdown",
     "metadata": {},
     "source": [
      "Note for Mac users: if displaying the tree does not work (you should see an embedded PNG file), and you see a GS prompt in your iPython terminal window, try my [NLTK patch](https://github.com/kowey/nltk/commit/4ac4beacff7f9363c84e5d72719e2b5cda8267f2). "
     ]
    },
    {
     "cell_type": "code",
     "collapsed": false,
     "input": [
      "# display PNG tree\n",
      "from educe.corpus import FileId\n",
      "from IPython.display import display\n",
      "example_key = FileId(doc = \"wsj_1924.out\", subdoc=None, stage=\"discourse\", annotator='unknown')\n",
      "doc_ex = rst_corpus[example_key] # pick a document from the corpus\n",
      "subtree_ex = doc_ex[2][0][0][1] # navigate down to a small subtree\n",
      "display(subtree_ex) # NLTK > 3.0b1 2013-07-11 should display a PNG image of the RST tree\n",
      "# Mac users: see note above"
     ],
     "language": "python",
     "metadata": {},
     "outputs": [
      {
       "metadata": {},
       "output_type": "display_data",
       "png": "[encoded data removed]",
       "text": [
        "(Satellite 29-33 elaboration-general-specific\n",
        "  (Nucleus 29-29 span EDU:[At a nationally tele...])\n",
        "  (Satellite 30-33 elaboration-object-attribute-e\n",
        "    (Nucleus 30-30 List EDU:[formally ending one-...])\n",
        "    (Nucleus 31-31 List EDU:[regulating free elec...])\n",
        "    (Nucleus 32-33 List\n",
        "      (Nucleus 32-32 span EDU:[and establishing the...])\n",
        "      (Satellite 33-33 purpose EDU:[to replace a 21-memb...]))))"
       ]
      }
     ],
     "prompt_number": 39
    },
    {
     "cell_type": "markdown",
     "metadata": {},
     "source": [
      "The tree representation used in the RST DT can take some getting used to (relation labels are placed on the satellite rather than the root of a subtree). You may prefer to work with the simplified representation instead.  In the simple representation, trees are binarised and relation labels are moved to the root node."
     ]
    },
    {
     "cell_type": "code",
     "collapsed": false,
     "input": [
      "# rearrange the tree so that it is easier to work with\n",
      "simple_subtree_ex = educe.rst_dt.SimpleRSTTree.from_rst_tree(subtree_ex)\n",
      "display(simple_subtree_ex)"
     ],
     "language": "python",
     "metadata": {},
     "outputs": [
      {
       "metadata": {},
       "output_type": "display_data",
       "png": "[encoded data removed]",
       "text": [
        "SimpleRSTTree(Satellite 29-33 elaboration-object-attribute-e, [SimpleRSTTree(Nucleus 29-29 leaf, [EDU:[At a nationally tele...]]), SimpleRSTTree(Satellite 30-33 List, [SimpleRSTTree(Nucleus 30-30 leaf, [EDU:[formally ending one-...]]), SimpleRSTTree(Nucleus 31-33 List, [SimpleRSTTree(Nucleus 31-31 leaf, [EDU:[regulating free elec...]]), SimpleRSTTree(Nucleus 32-33 purpose, [SimpleRSTTree(Nucleus 32-32 leaf, [EDU:[and establishing the...]]), SimpleRSTTree(Satellite 33-33 leaf, [EDU:[to replace a 21-memb...]])])])])])"
       ]
      }
     ],
     "prompt_number": 40
    },
    {
     "cell_type": "code",
     "collapsed": false,
     "input": [
      "# display some edus\n",
      "for edu in subtree.leaves():\n",
      "    print(\"EDU at {0}: {1}\".format(edu.text_span(), edu.text()))"
     ],
     "language": "python",
     "metadata": {},
     "outputs": []
    },
    {
     "cell_type": "markdown",
     "metadata": {},
     "source": [
      "## To be continued\n",
      "\n",
      "This tutorial is very much a work in progress.\n",
      "(last update 2014-09-17)"
     ]
    },
    {
     "cell_type": "code",
     "collapsed": false,
     "input": [],
     "language": "python",
     "metadata": {},
     "outputs": []
    }
   ],
   "metadata": {}
  }
 ]
}