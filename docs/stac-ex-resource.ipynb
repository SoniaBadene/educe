{
 "cells": [
  {
   "cell_type": "markdown",
   "metadata": {},
   "source": [
    "# [STAC] Turns and resources\n",
    "\n",
    "Suppose you wanted to find the following (an actual request from the STAC project)\n",
    "\n",
    "“Player offers to give resource X (possibly for Y) but does not hold resource X.”\n",
    "\n",
    "In this tutorial, we'll walk through such a query applying it to a single file in the corpus. Before digging into the tutorial proper, let's first read the sample data."
   ]
  },
  {
   "cell_type": "code",
   "execution_count": 7,
   "metadata": {
    "collapsed": false
   },
   "outputs": [
    {
     "name": "stderr",
     "output_type": "stream",
     "text": [
      "\r",
      "Slurping corpus dir [0/1]\r",
      "Slurping corpus dir [1/1 done]\n"
     ]
    }
   ],
   "source": [
    "from __future__ import print_function\n",
    "from educe.corpus import FileId\n",
    "import educe.stac\n",
    "\n",
    "# relative to the educe docs directory\n",
    "data_dir = '../data'\n",
    "corpus_dir = '{dd}/stac-sample'.format(dd=data_dir)\n",
    "\n",
    "def text_snippet(text):\n",
    "    \"short text fragment\"\n",
    "    if len(text) < 43:\n",
    "        return text\n",
    "    else:\n",
    "        return \"{0}...{1}\".format(text[:20], text[-20:])\n",
    "    \n",
    "def preview_unit(doc, anno):\n",
    "    \"the default str(anno) can be a bit overwhelming\"\n",
    "    preview = \"{span: <11} {id: <20} [{type: <12}] {text}\"\n",
    "    text = doc.text(anno.text_span())\n",
    "    return preview.format(id=anno.local_id(),\n",
    "                          type=anno.type,\n",
    "                          span=anno.text_span(),\n",
    "                          text=text_snippet(text))\n",
    "\n",
    "# pick out an example document to work with creating FileIds by hand\n",
    "# is not something we would typically do (normally we would just iterate\n",
    "# through a corpus), but it's useful for illustration\n",
    "ex_key = FileId(doc='s1-league2-game3',\n",
    "                subdoc='03',\n",
    "                stage='units',\n",
    "                annotator='BRONZE')\n",
    "reader = educe.stac.Reader(corpus_dir)\n",
    "ex_files = reader.filter(reader.files(),\n",
    "                           lambda k: k == ex_key)\n",
    "corpus = reader.slurp(ex_files, verbose=True)\n",
    "ex_doc = corpus[ex_key]"
   ]
  },
  {
   "cell_type": "markdown",
   "metadata": {},
   "source": [
    "## 1. Turn and resource annotations\n",
    "\n",
    "How would you go about doing it? One place to start is to look at turns and resources independently.  We can filter turns and resources with the helper functions `is_turn` and `is_resource` from `educe.stac`"
   ]
  },
  {
   "cell_type": "code",
   "execution_count": 8,
   "metadata": {
    "collapsed": false
   },
   "outputs": [
    {
     "name": "stdout",
     "output_type": "stream",
     "text": [
      "Example turns\n",
      "-------------\n",
      "(35,66)     stac_1368693098      [Turn        ] 152 : sabercat : yep, for what?\n",
      "(100,123)   stac_1368693104      [Turn        ] 154 : sabercat : no way\n",
      "(146,171)   stac_1368693110      [Turn        ] 156 : sabercat : could be\n",
      "(172,191)   stac_1368693113      [Turn        ] 157 : amycharl : :)\n",
      "(192,210)   stac_1368693116      [Turn        ] 160 : amycharl : ?\n",
      "\n",
      "Example resources\n",
      "-----------------\n",
      "(84,88)     asoubeille_1374939917916 [Resource    ] clay\n",
      " {'Status': 'Givable', 'Kind': 'clay', 'Correctness': 'True', 'Quantity': '?'}\n",
      "(141,144)   asoubeille_1374940096296 [Resource    ] ore\n",
      " {'Status': 'Givable', 'Kind': 'ore', 'Correctness': 'True', 'Quantity': '?'}\n",
      "(398,403)   asoubeille_1374940373466 [Resource    ] sheep\n",
      " {'Status': 'Givable', 'Kind': 'sheep', 'Correctness': 'True', 'Quantity': '?'}\n",
      "(464,467)   asoubeille_1374940434888 [Resource    ] ore\n",
      " {'Status': 'Givable', 'Kind': 'ore', 'Correctness': 'True', 'Quantity': '1'}\n",
      "(689,692)   asoubeille_1374940671003 [Resource    ] one\n",
      " {'Status': 'Givable', 'Kind': 'Anaphoric', 'Correctness': 'True', 'Quantity': '1'}\n"
     ]
    }
   ],
   "source": [
    "import educe.stac\n",
    "\n",
    "ex_turns = [x for x in ex_doc.units if educe.stac.is_turn(x)]\n",
    "ex_resources = [x for x in ex_doc.units if educe.stac.is_resource(x)]\n",
    "ex_offers = [x for x in ex_resources if x.features['Status'] == 'Givable']\n",
    "\n",
    "print(\"Example turns\")\n",
    "print(\"-------------\")\n",
    "for anno in ex_turns[:5]:\n",
    "    # notice here that unit annotations have a features field\n",
    "    print(preview_unit(ex_doc, anno))\n",
    "\n",
    "print()\n",
    "print(\"Example resources\")\n",
    "print(\"-----------------\")\n",
    "for anno in ex_offers[:5]:\n",
    "    # notice here that unit annotations have a features field\n",
    "    print(preview_unit(ex_doc, anno))\n",
    "    print('', anno.features)"
   ]
  },
  {
   "cell_type": "markdown",
   "metadata": {},
   "source": [
    "### Oh no, Anaphors\n",
    "\n",
    "Oh dear, some of our resources won't tell us their types directly.  They are anaphors pointing to other annotations.  We'll ignore these for the moment, but it'll be important to deal with them properly later on."
   ]
  },
  {
   "cell_type": "markdown",
   "metadata": {},
   "source": [
    "## 2. Resources within turns?\n",
    "\n",
    "It's not enough to be able to spit out resource and turn annotations.  \n",
    "What we really want to know about are which resources are within which turns'"
   ]
  },
  {
   "cell_type": "code",
   "execution_count": 9,
   "metadata": {
    "collapsed": false
   },
   "outputs": [
    {
     "name": "stdout",
     "output_type": "stream",
     "text": [
      "Turns and resources within\n",
      "--------------------------\n",
      "(959,1008)  stac_1368693191      [Turn        ] 201 : sabercat : can...or another sheep? or\n",
      "\t(999,1004)\tsheep\n",
      "(1009,1030) stac_1368693195      [Turn        ] 202 : sabercat : two?\n",
      "\t(1026,1029)\tAnaphoric\n",
      "(67,99)     stac_1368693101      [Turn        ] 153 : amycharl : clay preferably\n",
      "\t(84,88)\tclay\n",
      "(124,145)   stac_1368693107      [Turn        ] 155 : amycharl : ore?\n",
      "\t(141,144)\tore\n",
      "(363,404)   stac_1368693135      [Turn        ] 171 : sabercat : want to trade for sheep?\n",
      "\t(398,403)\tsheep\n"
     ]
    }
   ],
   "source": [
    "ex_turns_with_offers = [t for t in ex_turns if any(t.encloses(r) for r in ex_offers)]\n",
    "\n",
    "print(\"Turns and resources within\")\n",
    "print(\"--------------------------\")\n",
    "for turn in ex_turns_with_offers[:5]:\n",
    "    t_resources = [x for x in ex_resources if turn.encloses(x)]\n",
    "    print(preview_unit(ex_doc, turn))\n",
    "    for rsrc in t_resources:\n",
    "        kind = rsrc.features['Kind']\n",
    "        print(\"\\t\".join([\"\", str(rsrc.text_span()), kind]))"
   ]
  },
  {
   "cell_type": "markdown",
   "metadata": {},
   "source": [
    "## 3. But does the player own these resources?\n",
    "\n",
    "Now that we can extract the resources within a turn, our next task is to figure out if the player actually has these resources to give.  This information is stored in the turn features."
   ]
  },
  {
   "cell_type": "code",
   "execution_count": 10,
   "metadata": {
    "collapsed": false
   },
   "outputs": [
    {
     "name": "stdout",
     "output_type": "stream",
     "text": [
      "Turns and player resources\n",
      "--------------------------\n",
      "(35,66)     stac_1368693098      [Turn        ] 152 : sabercat : yep, for what?\n",
      "\t {'sheep': 5, 'wood': 2, 'ore': 2, 'wheat': 1, 'clay': 2}\n",
      "(100,123)   stac_1368693104      [Turn        ] 154 : sabercat : no way\n",
      "\t {'sheep': 5, 'wood': 2, 'ore': 2, 'wheat': 1, 'clay': 2}\n",
      "(146,171)   stac_1368693110      [Turn        ] 156 : sabercat : could be\n",
      "\t {'sheep': 5, 'wood': 2, 'ore': 2, 'wheat': 1, 'clay': 2}\n",
      "(172,191)   stac_1368693113      [Turn        ] 157 : amycharl : :)\n",
      "\t {'sheep': 1, 'wood': 0, 'ore': 3, 'wheat': 1, 'clay': 3}\n",
      "(192,210)   stac_1368693116      [Turn        ] 160 : amycharl : ?\n",
      "\t {'sheep': 1, 'wood': 1, 'ore': 2, 'wheat': 1, 'clay': 3}\n"
     ]
    }
   ],
   "source": [
    "def parse_turn_resources(turn):\n",
    "    \"\"\"Return a dictionary of resource names to counts thereof\n",
    "    \"\"\"\n",
    "    def split_eq(attval):\n",
    "        key, val = attval.split('=')\n",
    "        return key.strip(), int(val)\n",
    "    rxs = turn.features['Resources']\n",
    "    return dict(split_eq(x) for x in rxs.split(';')) \n",
    "\n",
    "print(\"Turns and player resources\")\n",
    "print(\"--------------------------\")\n",
    "for turn in ex_turns[:5]:\n",
    "    t_resources = [x for x in ex_resources if turn.encloses(x)]\n",
    "    print(preview_unit(ex_doc, turn))\n",
    "    # not to be confused with the resource annotations within the turn\n",
    "    print('\\t', parse_turn_resources(turn))\n",
    "        "
   ]
  },
  {
   "cell_type": "markdown",
   "metadata": {},
   "source": [
    "## 4. Putting it together: is this an honest offer?"
   ]
  },
  {
   "cell_type": "code",
   "execution_count": 11,
   "metadata": {
    "collapsed": false
   },
   "outputs": [
    {
     "name": "stdout",
     "output_type": "stream",
     "text": [
      "Turns and offers\n",
      "----------------\n",
      " (959,1008)  stac_1368693191      [Turn        ] 201 : sabercat : can...or another sheep? or\n",
      "\t1/5 sheep | has some: True, enough: True\n",
      " (1009,1030) stac_1368693195      [Turn        ] 202 : sabercat : two?\n",
      "\t2/None Anaphoric | has some: False, enough: True\n",
      " (67,99)     stac_1368693101      [Turn        ] 153 : amycharl : clay preferably\n",
      "\t?/3 clay | has some: True, enough: n/a\n",
      " (124,145)   stac_1368693107      [Turn        ] 155 : amycharl : ore?\n",
      "\t?/3 ore | has some: True, enough: n/a\n",
      " (363,404)   stac_1368693135      [Turn        ] 171 : sabercat : want to trade for sheep?\n",
      "\t?/5 sheep | has some: True, enough: n/a\n"
     ]
    }
   ],
   "source": [
    "def is_somewhat_honest(turn, offer):\n",
    "    \"\"\"True if the player has the offered resource \n",
    "    \"\"\"\n",
    "    if offer.features['Status'] != 'Givable':\n",
    "        raise ValueError('Resource must be givable')\n",
    "    kind = offer.features['Kind']\n",
    "    t_rxs = parse_turn_resources(turn)\n",
    "    return t_rxs.get(kind, 0) > 0\n",
    "\n",
    "def is_honest(turn, offer):\n",
    "    \"\"\"\n",
    "    True if the player has the offered resource\n",
    "    at the quantity offered. Undefined for offers that\n",
    "    do not have a defined quantity\n",
    "    \"\"\"\n",
    "    if offer.features['Status'] != 'Givable':\n",
    "        raise ValueError('Resource must be givable')\n",
    "    if offer.features['Quantity'] == '?':\n",
    "        raise ValueError('Resource must have a known quantity')\n",
    "    promised = int(offer.features['Quantity'])    \n",
    "    kind = rsrc.features['Kind']\n",
    "    t_rxs = parse_turn_resources(turn)\n",
    "    return t_rxs.get(kind, 0) >= promised\n",
    "\n",
    "def critique_offer(turn, offer):\n",
    "    \"\"\"Return some commentary on an offered resource\"\"\"\n",
    "    kind = offer.features['Kind']\n",
    "    quantity = offer.features['Quantity']\n",
    "    honest = 'n/a' if quantity == '?' else is_honest(turn, offer)\n",
    "    msg = (\"\\t{offered}/{has} {kind} | \"\n",
    "           \"has some: {honestish}, \"\n",
    "           \"enough: {honest}\")\n",
    "    return msg.format(kind=kind,\n",
    "                      offered=quantity,\n",
    "                      has=player_rxs.get(kind),\n",
    "                      honestish=is_somewhat_honest(turn, offer),\n",
    "                      honest=honest)\n",
    "\n",
    "ex_turns_with_offers = [t for t in ex_turns if any(t.encloses(r) for r in ex_offers)]\n",
    "\n",
    "print(\"Turns and offers\")\n",
    "print(\"----------------\")\n",
    "for turn in ex_turns_with_offers[:5]:\n",
    "    offers = [x for x in ex_offers if turn.encloses(x)]\n",
    "    print('', preview_unit(ex_doc, turn))\n",
    "    player_rxs = parse_turn_resources(turn)\n",
    "    for offer in offers:\n",
    "        print(critique_offer(turn, offer))\n"
   ]
  },
  {
   "cell_type": "markdown",
   "metadata": {},
   "source": [
    "## 5. What about those anaphors?\n",
    "\n",
    "Anaphors are represented with 'Anaphora' relation instances.  Relation instances have a source and target connecting two unit level annotations (here two resources). The idea here is that the anaphor would be the source of the relation, and its antecedant is the target. We'll assume for simplicity that resource anaphora do not form chains."
   ]
  },
  {
   "cell_type": "code",
   "execution_count": 12,
   "metadata": {
    "collapsed": false
   },
   "outputs": [
    {
     "name": "stdout",
     "output_type": "stream",
     "text": [
      "Turns and offers (anaphors accounted for)\n",
      "-----------------------------------------\n",
      " (959,1008)  stac_1368693191      [Turn        ] 201 : sabercat : can...or another sheep? or\n",
      "\t1/5 sheep | has some: True, enough: True\n",
      " (1009,1030) stac_1368693195      [Turn        ] 202 : sabercat : two?\n",
      "\t2/5 sheep | has some: True, enough: True\n",
      " (67,99)     stac_1368693101      [Turn        ] 153 : amycharl : clay preferably\n",
      "\t?/3 clay | has some: True, enough: n/a\n",
      " (124,145)   stac_1368693107      [Turn        ] 155 : amycharl : ore?\n",
      "\t?/3 ore | has some: True, enough: n/a\n",
      " (363,404)   stac_1368693135      [Turn        ] 171 : sabercat : want to trade for sheep?\n",
      "\t?/5 sheep | has some: True, enough: n/a\n"
     ]
    }
   ],
   "source": [
    "import copy\n",
    "\n",
    "resource_types = {}\n",
    "for anno in ex_doc.relations:\n",
    "    if anno.type != 'Anaphora':\n",
    "        continue\n",
    "    resource_types[anno.source] = anno.target.features['Kind']\n",
    "\n",
    "print(\"Turns and offers (anaphors accounted for)\")\n",
    "print(\"-----------------------------------------\")\n",
    "for turn in ex_turns_with_offers[:5]:\n",
    "    offers = [x for x in ex_offers if turn.encloses(x)]\n",
    "    print('', preview_unit(ex_doc, turn))\n",
    "    player_rxs = parse_turn_resources(turn)\n",
    "    for offer in offers:\n",
    "        if offer in resource_types:\n",
    "            kind = resource_types[offer]\n",
    "            offer = copy.copy(offer)\n",
    "            offer.features['Kind'] = kind\n",
    "        print(critique_offer(turn, offer))"
   ]
  },
  {
   "cell_type": "markdown",
   "metadata": {},
   "source": [
    "## Conclusion\n",
    "\n",
    "In this tutorial, we've explored a couple of basic educe concepts, which we hope will enable you to extract some data from your discourse corpora, namely\n",
    "\n",
    "* reading corpus data (and pre-filtering)\n",
    "* standoff annotations\n",
    "* searching by span enclosure, overlapping\n",
    "* working with trees\n",
    "* combining annotations from different sources\n",
    "\n",
    "The concepts above should transfer to whatever discourse corpus you are working with (that educe supports, or that you are prepared to supply a reader for)."
   ]
  }
 ],
 "metadata": {
  "kernelspec": {
   "display_name": "Python 2",
   "language": "python",
   "name": "python2"
  },
  "language_info": {
   "codemirror_mode": {
    "name": "ipython",
    "version": 2
   },
   "file_extension": ".py",
   "mimetype": "text/x-python",
   "name": "python",
   "nbconvert_exporter": "python",
   "pygments_lexer": "ipython2",
   "version": "2.7.10"
  }
 },
 "nbformat": 4,
 "nbformat_minor": 0
}
