{
 "cells": [
  {
   "cell_type": "code",
   "execution_count": 1,
   "metadata": {
    "collapsed": true
   },
   "outputs": [],
   "source": [
    "from educe.stac.util.situated_stats import *\n",
    "# edit with your own local path to the STAC data\n",
    "STAC_DATA_DIR = '/home/mmorey/melodi/stac/svn-stac/data'"
   ]
  },
  {
   "cell_type": "code",
   "execution_count": 2,
   "metadata": {},
   "outputs": [
    {
     "name": "stdout",
     "output_type": "stream",
     "text": [
      "/home/mmorey/melodi/stac/svn-stac/data/situated-annotation/socl-season2/s2-league5-game1\n",
      "/home/mmorey/melodi/stac/svn-stac/data/situated-annotation/socl-season2/s2-league5-game0\n"
     ]
    },
    {
     "name": "stderr",
     "output_type": "stream",
     "text": [
      "/home/mmorey/melodi/educe/educe/stac/util/situated_stats.py:514: UserWarning: s2-league5-game0 [01] discourse GOLD: relation s2-league5-game0_01_nasher_1498484092775 has no Argument_scope\n",
      "  warnings.warn(w_msg)\n",
      "/home/mmorey/melodi/educe/educe/stac/util/situated_stats.py:514: UserWarning: s2-league5-game0 [01] discourse GOLD: relation s2-league5-game0_01_nasher_1498484095959 has no Argument_scope\n",
      "  warnings.warn(w_msg)\n",
      "/home/mmorey/melodi/educe/educe/stac/util/situated_stats.py:514: UserWarning: s2-league5-game0 [01] discourse GOLD: relation s2-league5-game0_01_nasher_1498484097967 has no Argument_scope\n",
      "  warnings.warn(w_msg)\n",
      "/home/mmorey/melodi/educe/educe/stac/util/situated_stats.py:514: UserWarning: s2-league5-game0 [01] discourse GOLD: relation s2-league5-game0_01_nasher_1498484100468 has no Argument_scope\n",
      "  warnings.warn(w_msg)\n"
     ]
    },
    {
     "name": "stdout",
     "output_type": "stream",
     "text": [
      "/home/mmorey/melodi/stac/svn-stac/data/situated-annotation/socl-season2/s2-league5-game3\n",
      "/home/mmorey/melodi/stac/svn-stac/data/situated-annotation/socl-season2/s2-league5-game5\n",
      "source    s2-league5-game5_05_stac_1498119535\n",
      "target    s2-league5-game5_05_stac_1458309150\n",
      "type                                 Sequence\n",
      "Name: 380, dtype: object\n",
      "tgt Empty DataFrame\n",
      "Columns: [global_id, doc, subdoc, stage, annotator, type, span_beg, span_end, text, creation_date, author, last_modif_date, last_modifier, seg_idx, eeu_idx, edu_idx, turn_id, turn_span_beg, turn_span_end]\n",
      "Index: []\n",
      "src                                global_id               doc subdoc      stage  \\\n",
      "489  s2-league5-game5_05_stac_1498119535  s2-league5-game5     05  discourse   \n",
      "\n",
      "    annotator              type  span_beg  span_end  \\\n",
      "489      GOLD  NonplayerSegment      4032      4060   \n",
      "\n",
      "                             text creation_date author last_modif_date  \\\n",
      "489  gramos will move the robber.    1498119535   stac               0   \n",
      "\n",
      "    last_modifier  seg_idx  eeu_idx  edu_idx  turn_id  turn_span_beg  \\\n",
      "489           n/a      489    397.0      NaN  185.0.1             19   \n",
      "\n",
      "     turn_span_end  \n",
      "489             47  \n"
     ]
    },
    {
     "name": "stderr",
     "output_type": "stream",
     "text": [
      "/home/mmorey/melodi/educe/educe/stac/util/situated_stats.py:514: UserWarning: s2-league5-game0 [01] discourse GOLD: relation s2-league5-game0_01_nasher_1498484103784 has no Argument_scope\n",
      "  warnings.warn(w_msg)\n"
     ]
    },
    {
     "ename": "IndexError",
     "evalue": "index 0 is out of bounds for axis 0 with size 0",
     "output_type": "error",
     "traceback": [
      "\u001b[0;31m---------------------------------------------------------------------------\u001b[0m",
      "\u001b[0;31mIndexError\u001b[0m                                Traceback (most recent call last)",
      "\u001b[0;32m<ipython-input-2-fe1b64e0f4e2>\u001b[0m in \u001b[0;36m<module>\u001b[0;34m()\u001b[0m\n\u001b[1;32m      1\u001b[0m turns_situ, dlgs_situ, segs_situ, acts_situ, schms_situ, schm_mbrs_situ, rels_situ, res_situ, pref_situ = read_corpus_as_dataframes(\n\u001b[0;32m----> 2\u001b[0;31m     STAC_DATA_DIR, version='situated', split='all', strip_cdus=True, attach_len=True)\n\u001b[0m",
      "\u001b[0;32m/home/mmorey/melodi/educe/educe/stac/util/situated_stats.py\u001b[0m in \u001b[0;36mread_corpus_as_dataframes\u001b[0;34m(stac_data_dir, version, split, strip_cdus, attach_len, sel_games, exc_games)\u001b[0m\n\u001b[1;32m    659\u001b[0m \u001b[0;34m\u001b[0m\u001b[0m\n\u001b[1;32m    660\u001b[0m         game_dfs = read_game_as_dataframes(\n\u001b[0;32m--> 661\u001b[0;31m             game_folder, strip_cdus=strip_cdus, attach_len=attach_len)\n\u001b[0m\u001b[1;32m    662\u001b[0m         \u001b[0mturn_dfs\u001b[0m\u001b[0;34m.\u001b[0m\u001b[0mappend\u001b[0m\u001b[0;34m(\u001b[0m\u001b[0mgame_dfs\u001b[0m\u001b[0;34m[\u001b[0m\u001b[0;36m0\u001b[0m\u001b[0;34m]\u001b[0m\u001b[0;34m)\u001b[0m\u001b[0;34m\u001b[0m\u001b[0m\n\u001b[1;32m    663\u001b[0m         \u001b[0mdlg_dfs\u001b[0m\u001b[0;34m.\u001b[0m\u001b[0mappend\u001b[0m\u001b[0;34m(\u001b[0m\u001b[0mgame_dfs\u001b[0m\u001b[0;34m[\u001b[0m\u001b[0;36m1\u001b[0m\u001b[0;34m]\u001b[0m\u001b[0;34m)\u001b[0m\u001b[0;34m\u001b[0m\u001b[0m\n",
      "\u001b[0;32m/home/mmorey/melodi/educe/educe/stac/util/situated_stats.py\u001b[0m in \u001b[0;36mread_game_as_dataframes\u001b[0;34m(game_folder, sel_annotator, thorough, strip_cdus, attach_len)\u001b[0m\n\u001b[1;32m    571\u001b[0m     \u001b[0;31m# * length of attachments\u001b[0m\u001b[0;34m\u001b[0m\u001b[0;34m\u001b[0m\u001b[0m\n\u001b[1;32m    572\u001b[0m     \u001b[0;32mif\u001b[0m \u001b[0mstrip_cdus\u001b[0m \u001b[0;32mand\u001b[0m \u001b[0mattach_len\u001b[0m\u001b[0;34m:\u001b[0m\u001b[0;34m\u001b[0m\u001b[0m\n\u001b[0;32m--> 573\u001b[0;31m         \u001b[0mdf_rels\u001b[0m \u001b[0;34m=\u001b[0m \u001b[0mcompute_rel_attributes\u001b[0m\u001b[0;34m(\u001b[0m\u001b[0mdf_segs\u001b[0m\u001b[0;34m,\u001b[0m \u001b[0mdf_rels\u001b[0m\u001b[0;34m)\u001b[0m\u001b[0;34m\u001b[0m\u001b[0m\n\u001b[0m\u001b[1;32m    574\u001b[0m \u001b[0;34m\u001b[0m\u001b[0m\n\u001b[1;32m    575\u001b[0m     return (df_turns, df_dlgs, df_segs, df_acts, df_schms, df_schm_mbrs,\n",
      "\u001b[0;32m/home/mmorey/melodi/educe/educe/stac/util/situated_stats.py\u001b[0m in \u001b[0;36mcompute_rel_attributes\u001b[0;34m(seg_df, rel_df)\u001b[0m\n\u001b[1;32m    189\u001b[0m             \u001b[0;31m# compute length of attachment\u001b[0m\u001b[0;34m\u001b[0m\u001b[0;34m\u001b[0m\u001b[0m\n\u001b[1;32m    190\u001b[0m             \u001b[0;32mtry\u001b[0m\u001b[0;34m:\u001b[0m\u001b[0;34m\u001b[0m\u001b[0m\n\u001b[0;32m--> 191\u001b[0;31m                 len_seg = (seg_tgt['seg_idx'].values[0] -\n\u001b[0m\u001b[1;32m    192\u001b[0m                            seg_src['seg_idx'].values[0])\n\u001b[1;32m    193\u001b[0m             \u001b[0;32mexcept\u001b[0m \u001b[0mIndexError\u001b[0m\u001b[0;34m:\u001b[0m\u001b[0;34m\u001b[0m\u001b[0m\n",
      "\u001b[0;31mIndexError\u001b[0m: index 0 is out of bounds for axis 0 with size 0"
     ]
    }
   ],
   "source": [
    "turns_situ, dlgs_situ, segs_situ, acts_situ, schms_situ, schm_mbrs_situ, rels_situ, res_situ, pref_situ = read_corpus_as_dataframes(\n",
    "    STAC_DATA_DIR, version='situated', split='all', strip_cdus=True, attach_len=True)"
   ]
  },
  {
   "cell_type": "code",
   "execution_count": 3,
   "metadata": {},
   "outputs": [
    {
     "name": "stdout",
     "output_type": "stream",
     "text": [
      "                             global_id               doc subdoc      stage  \\\n",
      "0  s2-league5-game1_01_stac_1496239933  s2-league5-game1     01  discourse   \n",
      "1  s2-league5-game1_01_stac_1496239936  s2-league5-game1     01  discourse   \n",
      "2  s2-league5-game1_01_stac_1496239939  s2-league5-game1     01  discourse   \n",
      "3  s2-league5-game1_01_stac_1496239942  s2-league5-game1     01  discourse   \n",
      "4  s2-league5-game1_01_stac_1496239945  s2-league5-game1     01  discourse   \n",
      "\n",
      "  annotator           type  span_beg  span_end  \\\n",
      "0      GOLD  NonplayerTurn         1        38   \n",
      "1      GOLD  NonplayerTurn        39        81   \n",
      "2      GOLD  NonplayerTurn        82       122   \n",
      "3      GOLD  NonplayerTurn       123       149   \n",
      "4      GOLD  NonplayerTurn       150       191   \n",
      "\n",
      "                                         text creation_date author  \\\n",
      "0       0.0.1 : UI : zorburt joined the game.    1496239933   stac   \n",
      "1  0.0.2 : UI : catanstrophe joined the game.    1496239936   stac   \n",
      "2    0.0.3 : UI : zorburt sat down at seat 1.    1496239939   stac   \n",
      "3                  0.0.4 : UI : Game state 0.    1496239942   stac   \n",
      "4   0.0.5 : UI : raefbrisbin joined the game.    1496239945   stac   \n",
      "\n",
      "  last_modif_date last_modifier     timestamp turn_id emitter developments  \\\n",
      "0               0           n/a  19:58:55:712   0.0.1      UI         None   \n",
      "1               0           n/a  19:58:57:859   0.0.2      UI         None   \n",
      "2               0           n/a  19:58:58:307   0.0.3      UI         None   \n",
      "3               0           n/a  19:58:58:308   0.0.4      UI         None   \n",
      "4               0           n/a  19:59:00:525   0.0.5      UI         None   \n",
      "\n",
      "  resources                    comments  \n",
      "0      None  Please write in remarks...  \n",
      "1      None  Please write in remarks...  \n",
      "2      None  Please write in remarks...  \n",
      "3      None  Please write in remarks...  \n",
      "4      None  Please write in remarks...  \n"
     ]
    }
   ],
   "source": [
    "print(turns_situ[:5])"
   ]
  },
  {
   "cell_type": "code",
   "execution_count": 4,
   "metadata": {
    "collapsed": true
   },
   "outputs": [],
   "source": [
    "# print(dlgs_situ[:5])"
   ]
  },
  {
   "cell_type": "code",
   "execution_count": 5,
   "metadata": {},
   "outputs": [
    {
     "name": "stdout",
     "output_type": "stream",
     "text": [
      "                             global_id               doc subdoc      stage  \\\n",
      "0  s2-league5-game1_01_stac_1496239934  s2-league5-game1     01  discourse   \n",
      "1  s2-league5-game1_01_stac_1496239937  s2-league5-game1     01  discourse   \n",
      "2  s2-league5-game1_01_stac_1496239940  s2-league5-game1     01  discourse   \n",
      "3  s2-league5-game1_01_stac_1496239943  s2-league5-game1     01  discourse   \n",
      "4  s2-league5-game1_01_stac_1496239946  s2-league5-game1     01  discourse   \n",
      "\n",
      "  annotator              type  span_beg  span_end  \\\n",
      "0      GOLD  NonplayerSegment        14        38   \n",
      "1      GOLD  NonplayerSegment        52        81   \n",
      "2      GOLD  NonplayerSegment        95       122   \n",
      "3      GOLD  NonplayerSegment       136       149   \n",
      "4      GOLD  NonplayerSegment       163       191   \n",
      "\n",
      "                            text creation_date author last_modif_date  \\\n",
      "0       zorburt joined the game.    1496239934   stac               0   \n",
      "1  catanstrophe joined the game.    1496239937   stac               0   \n",
      "2    zorburt sat down at seat 1.    1496239940   stac               0   \n",
      "3                  Game state 0.    1496239943   stac               0   \n",
      "4   raefbrisbin joined the game.    1496239946   stac               0   \n",
      "\n",
      "  last_modifier  seg_idx  eeu_idx  edu_idx turn_id  turn_span_beg  \\\n",
      "0           n/a        0      0.0      NaN   0.0.1             13   \n",
      "1           n/a        1      1.0      NaN   0.0.2             13   \n",
      "2           n/a        2      2.0      NaN   0.0.3             13   \n",
      "3           n/a        3      3.0      NaN   0.0.4             13   \n",
      "4           n/a        4      4.0      NaN   0.0.5             13   \n",
      "\n",
      "   turn_span_end  \n",
      "0             37  \n",
      "1             42  \n",
      "2             40  \n",
      "3             26  \n",
      "4             41  \n"
     ]
    }
   ],
   "source": [
    "print(segs_situ[:5])"
   ]
  },
  {
   "cell_type": "code",
   "execution_count": 6,
   "metadata": {
    "collapsed": true
   },
   "outputs": [],
   "source": [
    "# print(acts_situ[:5])"
   ]
  },
  {
   "cell_type": "code",
   "execution_count": 7,
   "metadata": {
    "collapsed": true
   },
   "outputs": [],
   "source": [
    "# print(schms_situ[:5])"
   ]
  },
  {
   "cell_type": "code",
   "execution_count": 8,
   "metadata": {
    "collapsed": true
   },
   "outputs": [],
   "source": [
    "# print(schm_mbrs_situ[:5])"
   ]
  },
  {
   "cell_type": "code",
   "execution_count": 9,
   "metadata": {},
   "outputs": [
    {
     "name": "stdout",
     "output_type": "stream",
     "text": [
      "                                      global_id               doc subdoc  \\\n",
      "0  s2-league5-game1_01_asoubeille_1414136334458  s2-league5-game1     01   \n",
      "1  s2-league5-game1_01_asoubeille_1414136350492  s2-league5-game1     01   \n",
      "2  s2-league5-game1_01_asoubeille_1414136518374  s2-league5-game1     01   \n",
      "3  s2-league5-game1_01_asoubeille_1414136538768  s2-league5-game1     01   \n",
      "4  s2-league5-game1_01_asoubeille_1414136598956  s2-league5-game1     01   \n",
      "\n",
      "       stage annotator      type  creation_date      author last_modif_date  \\\n",
      "0  discourse      GOLD   Comment  1414136334458  asoubeille   1496741651929   \n",
      "1  discourse      GOLD    Result  1414136350492  asoubeille               0   \n",
      "2  discourse      GOLD  Parallel  1414136518374  asoubeille               0   \n",
      "3  discourse      GOLD   Comment  1414136538768  asoubeille               0   \n",
      "4  discourse      GOLD   Comment  1414136598956  asoubeille               0   \n",
      "\n",
      "  last_modifier         arg_scope                    comments  \\\n",
      "0        nasher  Please choose...  Please write in remarks...   \n",
      "1           n/a         Specified  Please write in remarks...   \n",
      "2           n/a  Please choose...  Please write in remarks...   \n",
      "3           n/a       Unspecified  Please write in remarks...   \n",
      "4           n/a  Please choose...  Please write in remarks...   \n",
      "\n",
      "                                source                               target  \\\n",
      "0  s2-league5-game1_01_stac_1496239940  s2-league5-game1_01_stac_1413792984   \n",
      "1  s2-league5-game1_01_stac_1413792987  s2-league5-game1_01_stac_1413792988   \n",
      "2  s2-league5-game1_01_stac_1413792984  s2-league5-game1_01_stac_1413792991   \n",
      "3  s2-league5-game1_01_stac_1413792991  s2-league5-game1_01_stac_1413792994   \n",
      "4  s2-league5-game1_01_stac_1413792997  s2-league5-game1_01_stac_1413793000   \n",
      "\n",
      "   len_seg  len_edu  len_eeu  \n",
      "0      8.0      NaN      NaN  \n",
      "1      1.0      1.0      NaN  \n",
      "2      3.0      3.0      NaN  \n",
      "3      5.0      1.0      NaN  \n",
      "4      9.0      1.0      NaN  \n"
     ]
    }
   ],
   "source": [
    "print(rels_situ[:5])"
   ]
  },
  {
   "cell_type": "code",
   "execution_count": 10,
   "metadata": {
    "collapsed": true
   },
   "outputs": [],
   "source": [
    "# print(res_situ[:5])"
   ]
  },
  {
   "cell_type": "code",
   "execution_count": 11,
   "metadata": {
    "collapsed": true
   },
   "outputs": [],
   "source": [
    "# print(pref_situ[:5])"
   ]
  },
  {
   "cell_type": "code",
   "execution_count": 25,
   "metadata": {},
   "outputs": [
    {
     "data": {
      "text/plain": [
       "1.0     0.668762\n",
       "2.0     0.128439\n",
       "3.0     0.089773\n",
       "4.0     0.047267\n",
       "5.0     0.020648\n",
       "6.0     0.012547\n",
       "7.0     0.008522\n",
       "8.0     0.005629\n",
       "9.0     0.003998\n",
       "10.0    0.003077\n",
       "11.0    0.002683\n",
       "12.0    0.001631\n",
       "13.0    0.001578\n",
       "14.0    0.001000\n",
       "15.0    0.000763\n",
       "Name: len_seg, dtype: float64"
      ]
     },
     "execution_count": 25,
     "metadata": {},
     "output_type": "execute_result"
    }
   ],
   "source": [
    "(abs(rels_situ['len_seg']).value_counts() / rels_situ['len_seg'].count())[:15]"
   ]
  },
  {
   "cell_type": "code",
   "execution_count": 26,
   "metadata": {},
   "outputs": [
    {
     "data": {
      "text/plain": [
       "1.0     0.557553\n",
       "2.0     0.217113\n",
       "3.0     0.109656\n",
       "4.0     0.048566\n",
       "5.0     0.028776\n",
       "6.0     0.013480\n",
       "7.0     0.008317\n",
       "8.0     0.004302\n",
       "9.0     0.003442\n",
       "10.0    0.001912\n",
       "11.0    0.001434\n",
       "13.0    0.001338\n",
       "17.0    0.000860\n",
       "12.0    0.000574\n",
       "14.0    0.000574\n",
       "18.0    0.000287\n",
       "23.0    0.000287\n",
       "20.0    0.000287\n",
       "21.0    0.000287\n",
       "15.0    0.000287\n",
       "Name: len_edu, dtype: float64"
      ]
     },
     "execution_count": 26,
     "metadata": {},
     "output_type": "execute_result"
    }
   ],
   "source": [
    "(abs(rels_situ['len_edu']).value_counts() / rels_situ['len_edu'].count())[:15]"
   ]
  },
  {
   "cell_type": "markdown",
   "metadata": {},
   "source": [
    "Get the list of situated games."
   ]
  },
  {
   "cell_type": "code",
   "execution_count": null,
   "metadata": {
    "collapsed": true
   },
   "outputs": [],
   "source": [
    "# games_situ = list(turns_situ['doc'].unique())"
   ]
  },
  {
   "cell_type": "markdown",
   "metadata": {},
   "source": [
    "Read the linguistic (here, spect) version of the corpus."
   ]
  },
  {
   "cell_type": "code",
   "execution_count": null,
   "metadata": {
    "collapsed": true
   },
   "outputs": [],
   "source": [
    "# turns_spect, dlgs_spect, segs_spect, acts_spect, schms_spect, schm_mbrs_spect, rels_spect, res_spect, pref_spect = read_corpus_as_dataframes(version='ling', split='all', sel_games=games_situ)"
   ]
  }
 ],
 "metadata": {
  "kernelspec": {
   "display_name": "Python 2",
   "language": "python",
   "name": "python2"
  },
  "language_info": {
   "codemirror_mode": {
    "name": "ipython",
    "version": 2
   },
   "file_extension": ".py",
   "mimetype": "text/x-python",
   "name": "python",
   "nbconvert_exporter": "python",
   "pygments_lexer": "ipython2",
   "version": "2.7.13"
  }
 },
 "nbformat": 4,
 "nbformat_minor": 2
}
