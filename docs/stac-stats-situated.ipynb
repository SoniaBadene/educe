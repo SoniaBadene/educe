{
 "cells": [
  {
   "cell_type": "code",
   "execution_count": 1,
   "metadata": {
    "collapsed": true
   },
   "outputs": [],
   "source": [
    "from educe.stac.util.situated_stats import *\n",
    "# edit with your own local path to the STAC data, and existing or desired base dir for the dump\n",
    "STAC_DATA_DIR = '/home/mmorey/melodi/stac/svn-stac/data'\n",
    "DUMP_DIR_SITU = '/tmp/stac_dump_situ'  # dumps will be into subdir 'csv' or 'pickle', depending on format\n",
    "ALREADY_DUMPED = True  # if True, we assume the corpus has already been dumped to DUMP_DIR_SITU"
   ]
  },
  {
   "cell_type": "code",
   "execution_count": 2,
   "metadata": {},
   "outputs": [],
   "source": [
    "if not ALREADY_DUMPED:\n",
    "    corpus_dfs_situ = read_corpus_as_dataframes(STAC_DATA_DIR, version='situated', split='all',\n",
    "                                                strip_cdus=True, attach_len=True)\n",
    "    dump_corpus_dataframes(corpus_dfs_situ, DUMP_DIR_SITU, out_fmt='csv')"
   ]
  },
  {
   "cell_type": "code",
   "execution_count": 3,
   "metadata": {},
   "outputs": [
    {
     "data": {
      "text/html": [
       "<div>\n",
       "<style>\n",
       "    .dataframe thead tr:only-child th {\n",
       "        text-align: right;\n",
       "    }\n",
       "\n",
       "    .dataframe thead th {\n",
       "        text-align: left;\n",
       "    }\n",
       "\n",
       "    .dataframe tbody tr th {\n",
       "        vertical-align: top;\n",
       "    }\n",
       "</style>\n",
       "<table border=\"1\" class=\"dataframe\">\n",
       "  <thead>\n",
       "    <tr style=\"text-align: right;\">\n",
       "      <th></th>\n",
       "      <th>global_id</th>\n",
       "      <th>doc</th>\n",
       "      <th>subdoc</th>\n",
       "      <th>stage</th>\n",
       "      <th>annotator</th>\n",
       "      <th>type</th>\n",
       "      <th>span_beg</th>\n",
       "      <th>span_end</th>\n",
       "      <th>text</th>\n",
       "      <th>creation_date</th>\n",
       "      <th>author</th>\n",
       "      <th>last_modif_date</th>\n",
       "      <th>last_modifier</th>\n",
       "      <th>timestamp</th>\n",
       "      <th>turn_id</th>\n",
       "      <th>emitter</th>\n",
       "      <th>developments</th>\n",
       "      <th>resources</th>\n",
       "      <th>comments</th>\n",
       "    </tr>\n",
       "  </thead>\n",
       "  <tbody>\n",
       "    <tr>\n",
       "      <th>0</th>\n",
       "      <td>s2-league5-game1_01_stac_1496239933</td>\n",
       "      <td>s2-league5-game1</td>\n",
       "      <td>1</td>\n",
       "      <td>discourse</td>\n",
       "      <td>GOLD</td>\n",
       "      <td>NonplayerTurn</td>\n",
       "      <td>1</td>\n",
       "      <td>38</td>\n",
       "      <td>0.0.1 : UI : zorburt joined the game.</td>\n",
       "      <td>1496239933</td>\n",
       "      <td>stac</td>\n",
       "      <td>0</td>\n",
       "      <td>n/a</td>\n",
       "      <td>19:58:55:712</td>\n",
       "      <td>0.0.1</td>\n",
       "      <td>UI</td>\n",
       "      <td>NaN</td>\n",
       "      <td>NaN</td>\n",
       "      <td>Please write in remarks...</td>\n",
       "    </tr>\n",
       "    <tr>\n",
       "      <th>1</th>\n",
       "      <td>s2-league5-game1_01_stac_1496239936</td>\n",
       "      <td>s2-league5-game1</td>\n",
       "      <td>1</td>\n",
       "      <td>discourse</td>\n",
       "      <td>GOLD</td>\n",
       "      <td>NonplayerTurn</td>\n",
       "      <td>39</td>\n",
       "      <td>81</td>\n",
       "      <td>0.0.2 : UI : catanstrophe joined the game.</td>\n",
       "      <td>1496239936</td>\n",
       "      <td>stac</td>\n",
       "      <td>0</td>\n",
       "      <td>n/a</td>\n",
       "      <td>19:58:57:859</td>\n",
       "      <td>0.0.2</td>\n",
       "      <td>UI</td>\n",
       "      <td>NaN</td>\n",
       "      <td>NaN</td>\n",
       "      <td>Please write in remarks...</td>\n",
       "    </tr>\n",
       "    <tr>\n",
       "      <th>2</th>\n",
       "      <td>s2-league5-game1_01_stac_1496239939</td>\n",
       "      <td>s2-league5-game1</td>\n",
       "      <td>1</td>\n",
       "      <td>discourse</td>\n",
       "      <td>GOLD</td>\n",
       "      <td>NonplayerTurn</td>\n",
       "      <td>82</td>\n",
       "      <td>122</td>\n",
       "      <td>0.0.3 : UI : zorburt sat down at seat 1.</td>\n",
       "      <td>1496239939</td>\n",
       "      <td>stac</td>\n",
       "      <td>0</td>\n",
       "      <td>n/a</td>\n",
       "      <td>19:58:58:307</td>\n",
       "      <td>0.0.3</td>\n",
       "      <td>UI</td>\n",
       "      <td>NaN</td>\n",
       "      <td>NaN</td>\n",
       "      <td>Please write in remarks...</td>\n",
       "    </tr>\n",
       "    <tr>\n",
       "      <th>3</th>\n",
       "      <td>s2-league5-game1_01_stac_1496239942</td>\n",
       "      <td>s2-league5-game1</td>\n",
       "      <td>1</td>\n",
       "      <td>discourse</td>\n",
       "      <td>GOLD</td>\n",
       "      <td>NonplayerTurn</td>\n",
       "      <td>123</td>\n",
       "      <td>149</td>\n",
       "      <td>0.0.4 : UI : Game state 0.</td>\n",
       "      <td>1496239942</td>\n",
       "      <td>stac</td>\n",
       "      <td>0</td>\n",
       "      <td>n/a</td>\n",
       "      <td>19:58:58:308</td>\n",
       "      <td>0.0.4</td>\n",
       "      <td>UI</td>\n",
       "      <td>NaN</td>\n",
       "      <td>NaN</td>\n",
       "      <td>Please write in remarks...</td>\n",
       "    </tr>\n",
       "    <tr>\n",
       "      <th>4</th>\n",
       "      <td>s2-league5-game1_01_stac_1496239945</td>\n",
       "      <td>s2-league5-game1</td>\n",
       "      <td>1</td>\n",
       "      <td>discourse</td>\n",
       "      <td>GOLD</td>\n",
       "      <td>NonplayerTurn</td>\n",
       "      <td>150</td>\n",
       "      <td>191</td>\n",
       "      <td>0.0.5 : UI : raefbrisbin joined the game.</td>\n",
       "      <td>1496239945</td>\n",
       "      <td>stac</td>\n",
       "      <td>0</td>\n",
       "      <td>n/a</td>\n",
       "      <td>19:59:00:525</td>\n",
       "      <td>0.0.5</td>\n",
       "      <td>UI</td>\n",
       "      <td>NaN</td>\n",
       "      <td>NaN</td>\n",
       "      <td>Please write in remarks...</td>\n",
       "    </tr>\n",
       "  </tbody>\n",
       "</table>\n",
       "</div>"
      ],
      "text/plain": [
       "                             global_id               doc  subdoc      stage  \\\n",
       "0  s2-league5-game1_01_stac_1496239933  s2-league5-game1       1  discourse   \n",
       "1  s2-league5-game1_01_stac_1496239936  s2-league5-game1       1  discourse   \n",
       "2  s2-league5-game1_01_stac_1496239939  s2-league5-game1       1  discourse   \n",
       "3  s2-league5-game1_01_stac_1496239942  s2-league5-game1       1  discourse   \n",
       "4  s2-league5-game1_01_stac_1496239945  s2-league5-game1       1  discourse   \n",
       "\n",
       "  annotator           type  span_beg  span_end  \\\n",
       "0      GOLD  NonplayerTurn         1        38   \n",
       "1      GOLD  NonplayerTurn        39        81   \n",
       "2      GOLD  NonplayerTurn        82       122   \n",
       "3      GOLD  NonplayerTurn       123       149   \n",
       "4      GOLD  NonplayerTurn       150       191   \n",
       "\n",
       "                                         text  creation_date author  \\\n",
       "0       0.0.1 : UI : zorburt joined the game.     1496239933   stac   \n",
       "1  0.0.2 : UI : catanstrophe joined the game.     1496239936   stac   \n",
       "2    0.0.3 : UI : zorburt sat down at seat 1.     1496239939   stac   \n",
       "3                  0.0.4 : UI : Game state 0.     1496239942   stac   \n",
       "4   0.0.5 : UI : raefbrisbin joined the game.     1496239945   stac   \n",
       "\n",
       "   last_modif_date last_modifier     timestamp turn_id emitter developments  \\\n",
       "0                0           n/a  19:58:55:712   0.0.1      UI          NaN   \n",
       "1                0           n/a  19:58:57:859   0.0.2      UI          NaN   \n",
       "2                0           n/a  19:58:58:307   0.0.3      UI          NaN   \n",
       "3                0           n/a  19:58:58:308   0.0.4      UI          NaN   \n",
       "4                0           n/a  19:59:00:525   0.0.5      UI          NaN   \n",
       "\n",
       "  resources                    comments  \n",
       "0       NaN  Please write in remarks...  \n",
       "1       NaN  Please write in remarks...  \n",
       "2       NaN  Please write in remarks...  \n",
       "3       NaN  Please write in remarks...  \n",
       "4       NaN  Please write in remarks...  "
      ]
     },
     "execution_count": 3,
     "metadata": {},
     "output_type": "execute_result"
    }
   ],
   "source": [
    "# read the data from the dump\n",
    "dfs = load_corpus_dataframes(DUMP_DIR_SITU, dump_fmt='csv')\n",
    "turns_situ = dfs[0]\n",
    "turns_situ[:5]"
   ]
  },
  {
   "cell_type": "code",
   "execution_count": 4,
   "metadata": {},
   "outputs": [],
   "source": [
    "disc_rels_situ = dfs[6]\n",
    "disc_rels_situ[:5]"
   ]
  },
  {
   "cell_type": "code",
   "execution_count": 5,
   "metadata": {},
   "outputs": [],
   "source": [
    "# (abs(disc_rels_situ['len_seg']).value_counts() / disc_rels_situ['len_seg'].count())[:15]"
   ]
  },
  {
   "cell_type": "code",
   "execution_count": 6,
   "metadata": {},
   "outputs": [],
   "source": [
    "# (abs(disc_rels_situ['len_edu']).value_counts() / disc_rels_situ['len_edu'].count())[:15]"
   ]
  },
  {
   "cell_type": "code",
   "execution_count": 7,
   "metadata": {
    "collapsed": true
   },
   "outputs": [],
   "source": [
    "%matplotlib inline\n",
    "import numpy as np\n",
    "import matplotlib as plt\n",
    "import seaborn as sns\n",
    "sns.set(color_codes=True)\n",
    "sns.set_context(\"paper\")\n",
    "sns.set(rc={\"figure.figsize\": (18, 4)})"
   ]
  },
  {
   "cell_type": "code",
   "execution_count": 8,
   "metadata": {},
   "outputs": [
    {
     "ename": "NameError",
     "evalue": "name 'disc_rels_situ' is not defined",
     "output_type": "error",
     "traceback": [
      "\u001b[0;31m---------------------------------------------------------------------------\u001b[0m",
      "\u001b[0;31mNameError\u001b[0m                                 Traceback (most recent call last)",
      "\u001b[0;32m<ipython-input-8-3bf5d69ac6e4>\u001b[0m in \u001b[0;36m<module>\u001b[0;34m()\u001b[0m\n\u001b[0;32m----> 1\u001b[0;31m \u001b[0mabs_len_edu\u001b[0m \u001b[0;34m=\u001b[0m \u001b[0mabs\u001b[0m\u001b[0;34m(\u001b[0m\u001b[0mdisc_rels_situ\u001b[0m\u001b[0;34m[\u001b[0m\u001b[0;34m'len_edu'\u001b[0m\u001b[0;34m]\u001b[0m\u001b[0;34m)\u001b[0m\u001b[0;34m\u001b[0m\u001b[0m\n\u001b[0m\u001b[1;32m      2\u001b[0m \u001b[0mabs_len_edu\u001b[0m \u001b[0;34m=\u001b[0m \u001b[0mabs_len_edu\u001b[0m\u001b[0;34m[\u001b[0m\u001b[0mabs_len_edu\u001b[0m\u001b[0;34m.\u001b[0m\u001b[0mnotnull\u001b[0m\u001b[0;34m(\u001b[0m\u001b[0;34m)\u001b[0m\u001b[0;34m]\u001b[0m\u001b[0;34m.\u001b[0m\u001b[0mastype\u001b[0m\u001b[0;34m(\u001b[0m\u001b[0mint\u001b[0m\u001b[0;34m)\u001b[0m\u001b[0;34m\u001b[0m\u001b[0m\n\u001b[1;32m      3\u001b[0m \u001b[0mbins\u001b[0m \u001b[0;34m=\u001b[0m \u001b[0mnp\u001b[0m\u001b[0;34m.\u001b[0m\u001b[0marange\u001b[0m\u001b[0;34m(\u001b[0m\u001b[0mabs_len_edu\u001b[0m\u001b[0;34m.\u001b[0m\u001b[0mmin\u001b[0m\u001b[0;34m(\u001b[0m\u001b[0;34m)\u001b[0m\u001b[0;34m,\u001b[0m \u001b[0mabs_len_edu\u001b[0m\u001b[0;34m.\u001b[0m\u001b[0mmax\u001b[0m\u001b[0;34m(\u001b[0m\u001b[0;34m)\u001b[0m \u001b[0;34m+\u001b[0m \u001b[0;36m1\u001b[0m\u001b[0;34m)\u001b[0m\u001b[0;34m\u001b[0m\u001b[0m\n\u001b[1;32m      4\u001b[0m \u001b[0mlen_dist\u001b[0m \u001b[0;34m=\u001b[0m \u001b[0msns\u001b[0m\u001b[0;34m.\u001b[0m\u001b[0mdistplot\u001b[0m\u001b[0;34m(\u001b[0m\u001b[0mabs_len_edu\u001b[0m\u001b[0;34m,\u001b[0m \u001b[0mbins\u001b[0m\u001b[0;34m=\u001b[0m\u001b[0mbins\u001b[0m\u001b[0;34m,\u001b[0m \u001b[0mrug\u001b[0m\u001b[0;34m=\u001b[0m\u001b[0mTrue\u001b[0m\u001b[0;34m)\u001b[0m\u001b[0;34m\u001b[0m\u001b[0m\n\u001b[1;32m      5\u001b[0m \u001b[0mlen_dist\u001b[0m\u001b[0;34m.\u001b[0m\u001b[0mset\u001b[0m\u001b[0;34m(\u001b[0m\u001b[0mxticks\u001b[0m\u001b[0;34m=\u001b[0m\u001b[0mbins\u001b[0m\u001b[0;34m)\u001b[0m\u001b[0;34m\u001b[0m\u001b[0m\n",
      "\u001b[0;31mNameError\u001b[0m: name 'disc_rels_situ' is not defined"
     ]
    }
   ],
   "source": [
    "abs_len_edu = abs(disc_rels_situ['len_edu'])\n",
    "abs_len_edu = abs_len_edu[abs_len_edu.notnull()].astype(int)\n",
    "bins = np.arange(abs_len_edu.min(), abs_len_edu.max() + 1)\n",
    "len_dist = sns.distplot(abs_len_edu, bins=bins, rug=True)\n",
    "len_dist.set(xticks=bins)\n",
    "len_dist"
   ]
  },
  {
   "cell_type": "markdown",
   "metadata": {},
   "source": [
    "Get the list of situated games."
   ]
  },
  {
   "cell_type": "code",
   "execution_count": null,
   "metadata": {
    "collapsed": true
   },
   "outputs": [],
   "source": [
    "# games_situ = list(turns_situ['doc'].unique())"
   ]
  },
  {
   "cell_type": "markdown",
   "metadata": {},
   "source": [
    "Read the linguistic (here, spect) version of the corpus."
   ]
  },
  {
   "cell_type": "code",
   "execution_count": null,
   "metadata": {
    "collapsed": true
   },
   "outputs": [],
   "source": [
    "# turns_spect, dlgs_spect, segs_spect, acts_spect, schms_spect, schm_mbrs_spect, disc_rels_spect, res_spect, pref_spect, unit_rels_spect = read_corpus_as_dataframes(version='ling', split='all', sel_games=games_situ)"
   ]
  }
 ],
 "metadata": {
  "kernelspec": {
   "display_name": "Python 2",
   "language": "python",
   "name": "python2"
  },
  "language_info": {
   "codemirror_mode": {
    "name": "ipython",
    "version": 2
   },
   "file_extension": ".py",
   "mimetype": "text/x-python",
   "name": "python",
   "nbconvert_exporter": "python",
   "pygments_lexer": "ipython2",
   "version": "2.7.13"
  }
 },
 "nbformat": 4,
 "nbformat_minor": 2
}
