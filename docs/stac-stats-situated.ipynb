{
 "cells": [
  {
   "cell_type": "code",
   "execution_count": 1,
   "metadata": {
    "collapsed": true
   },
   "outputs": [],
   "source": [
    "from educe.stac.util.situated_stats import *\n",
    "# edit with your own local path to the STAC data\n",
    "STAC_DATA_DIR = '/home/mmorey/melodi/stac/svn-stac/data'"
   ]
  },
  {
   "cell_type": "code",
   "execution_count": 2,
   "metadata": {},
   "outputs": [
    {
     "name": "stdout",
     "output_type": "stream",
     "text": [
      "/home/mmorey/melodi/stac/svn-stac/data/situated-annotation/socl-season2/s2-league5-game1\n",
      "/home/mmorey/melodi/stac/svn-stac/data/situated-annotation/socl-season2/s2-league5-game0\n",
      "/home/mmorey/melodi/stac/svn-stac/data/situated-annotation/socl-season2/s2-league5-game3\n",
      "/home/mmorey/melodi/stac/svn-stac/data/situated-annotation/socl-season2/s2-league5-game5\n",
      "/home/mmorey/melodi/stac/svn-stac/data/situated-annotation/pilot/pilot04\n",
      "/home/mmorey/melodi/stac/svn-stac/data/situated-annotation/pilot/pilot01\n",
      "/home/mmorey/melodi/stac/svn-stac/data/situated-annotation/pilot/pilot21\n",
      "/home/mmorey/melodi/stac/svn-stac/data/situated-annotation/pilot/pilot03\n",
      "/home/mmorey/melodi/stac/svn-stac/data/situated-annotation/TEST/pilot02\n",
      "/home/mmorey/melodi/stac/svn-stac/data/situated-annotation/socl-season1/s1-league2-game1\n",
      "/home/mmorey/melodi/stac/svn-stac/data/situated-annotation/socl-season1/s1-league2-game3\n",
      "/home/mmorey/melodi/stac/svn-stac/data/situated-annotation/socl-season1/s1-league2-game2\n",
      "/home/mmorey/melodi/stac/svn-stac/data/situated-annotation/socl-season1/s1-league2-game4\n",
      "/home/mmorey/melodi/stac/svn-stac/data/situated-annotation/socl-season2/s2-league8-game1\n",
      "/home/mmorey/melodi/stac/svn-stac/data/situated-annotation/socl-season1/s1-league1-game2\n",
      "/home/mmorey/melodi/stac/svn-stac/data/situated-annotation/socl-season1/s1-league1-game3\n",
      "/home/mmorey/melodi/stac/svn-stac/data/situated-annotation/socl-season2/s2-leagueM-game3\n",
      "/home/mmorey/melodi/stac/svn-stac/data/situated-annotation/socl-season1/s1-league1-game1\n",
      "/home/mmorey/melodi/stac/svn-stac/data/situated-annotation/socl-season2/s2-leagueM-game5\n",
      "/home/mmorey/melodi/stac/svn-stac/data/situated-annotation/TEST/s2-leagueM-game4\n",
      "/home/mmorey/melodi/stac/svn-stac/data/situated-annotation/socl-season1/s1-league1-game4\n",
      "/home/mmorey/melodi/stac/svn-stac/data/situated-annotation/socl-season2/s2-league4-game3\n",
      "/home/mmorey/melodi/stac/svn-stac/data/situated-annotation/socl-season1/s1-league3-game4\n",
      "/home/mmorey/melodi/stac/svn-stac/data/situated-annotation/socl-season1/s1-league3-game5\n",
      "/home/mmorey/melodi/stac/svn-stac/data/situated-annotation/socl-season1/s1-league3-game6\n",
      "/home/mmorey/melodi/stac/svn-stac/data/situated-annotation/socl-season1/s1-league3-game7\n",
      "/home/mmorey/melodi/stac/svn-stac/data/situated-annotation/socl-season1/s1-league3-game1\n",
      "/home/mmorey/melodi/stac/svn-stac/data/situated-annotation/socl-season1/s1-league3-game2\n",
      "/home/mmorey/melodi/stac/svn-stac/data/situated-annotation/TEST/s1-league3-game3\n",
      "/home/mmorey/melodi/stac/svn-stac/data/situated-annotation/socl-season2/s2-practice2\n",
      "/home/mmorey/melodi/stac/svn-stac/data/situated-annotation/pilot/pilot14\n",
      "/home/mmorey/melodi/stac/svn-stac/data/situated-annotation/pilot/pilot20\n",
      "/home/mmorey/melodi/stac/svn-stac/data/situated-annotation/socl-season2/s2-leagueM-game2\n",
      "/home/mmorey/melodi/stac/svn-stac/data/situated-annotation/socl-season2/s2-league4-game1\n",
      "/home/mmorey/melodi/stac/svn-stac/data/situated-annotation/TEST/s2-league4-game2\n",
      "/home/mmorey/melodi/stac/svn-stac/data/situated-annotation/socl-season2/s2-league3-game1\n",
      "/home/mmorey/melodi/stac/svn-stac/data/situated-annotation/socl-season1/s1-league1-game5\n",
      "/home/mmorey/melodi/stac/svn-stac/data/situated-annotation/socl-season2/s2-league1-game1\n",
      "/home/mmorey/melodi/stac/svn-stac/data/situated-annotation/socl-season2/s2-league3-game5\n",
      "/home/mmorey/melodi/stac/svn-stac/data/situated-annotation/socl-season2/s2-league3-game4\n"
     ]
    }
   ],
   "source": [
    "turns_situ, dlgs_situ, segs_situ, acts_situ, schms_situ, schm_mbrs_situ, rels_situ, res_situ, pref_situ = read_corpus_as_dataframes(\n",
    "    STAC_DATA_DIR, version='situated', split='all', strip_cdus=True, attach_len=True)"
   ]
  },
  {
   "cell_type": "code",
   "execution_count": 3,
   "metadata": {},
   "outputs": [
    {
     "name": "stdout",
     "output_type": "stream",
     "text": [
      "                             global_id               doc subdoc      stage  \\\n",
      "0  s2-league5-game1_01_stac_1496239933  s2-league5-game1     01  discourse   \n",
      "1  s2-league5-game1_01_stac_1496239936  s2-league5-game1     01  discourse   \n",
      "2  s2-league5-game1_01_stac_1496239939  s2-league5-game1     01  discourse   \n",
      "3  s2-league5-game1_01_stac_1496239942  s2-league5-game1     01  discourse   \n",
      "4  s2-league5-game1_01_stac_1496239945  s2-league5-game1     01  discourse   \n",
      "\n",
      "  annotator           type  span_beg  span_end  \\\n",
      "0      GOLD  NonplayerTurn         1        38   \n",
      "1      GOLD  NonplayerTurn        39        81   \n",
      "2      GOLD  NonplayerTurn        82       122   \n",
      "3      GOLD  NonplayerTurn       123       149   \n",
      "4      GOLD  NonplayerTurn       150       191   \n",
      "\n",
      "                                         text creation_date author  \\\n",
      "0       0.0.1 : UI : zorburt joined the game.    1496239933   stac   \n",
      "1  0.0.2 : UI : catanstrophe joined the game.    1496239936   stac   \n",
      "2    0.0.3 : UI : zorburt sat down at seat 1.    1496239939   stac   \n",
      "3                  0.0.4 : UI : Game state 0.    1496239942   stac   \n",
      "4   0.0.5 : UI : raefbrisbin joined the game.    1496239945   stac   \n",
      "\n",
      "  last_modif_date last_modifier     timestamp turn_id emitter developments  \\\n",
      "0               0           n/a  19:58:55:712   0.0.1      UI         None   \n",
      "1               0           n/a  19:58:57:859   0.0.2      UI         None   \n",
      "2               0           n/a  19:58:58:307   0.0.3      UI         None   \n",
      "3               0           n/a  19:58:58:308   0.0.4      UI         None   \n",
      "4               0           n/a  19:59:00:525   0.0.5      UI         None   \n",
      "\n",
      "  resources                    comments  \n",
      "0      None  Please write in remarks...  \n",
      "1      None  Please write in remarks...  \n",
      "2      None  Please write in remarks...  \n",
      "3      None  Please write in remarks...  \n",
      "4      None  Please write in remarks...  \n"
     ]
    }
   ],
   "source": [
    "print(turns_situ[:5])"
   ]
  },
  {
   "cell_type": "code",
   "execution_count": 4,
   "metadata": {
    "collapsed": true
   },
   "outputs": [],
   "source": [
    "# print(dlgs_situ[:5])"
   ]
  },
  {
   "cell_type": "code",
   "execution_count": 5,
   "metadata": {},
   "outputs": [
    {
     "name": "stdout",
     "output_type": "stream",
     "text": [
      "                             global_id               doc subdoc      stage  \\\n",
      "0  s2-league5-game1_01_stac_1496239934  s2-league5-game1     01  discourse   \n",
      "1  s2-league5-game1_01_stac_1496239937  s2-league5-game1     01  discourse   \n",
      "2  s2-league5-game1_01_stac_1496239940  s2-league5-game1     01  discourse   \n",
      "3  s2-league5-game1_01_stac_1496239943  s2-league5-game1     01  discourse   \n",
      "4  s2-league5-game1_01_stac_1496239946  s2-league5-game1     01  discourse   \n",
      "\n",
      "  annotator              type  span_beg  span_end  \\\n",
      "0      GOLD  NonplayerSegment        14        38   \n",
      "1      GOLD  NonplayerSegment        52        81   \n",
      "2      GOLD  NonplayerSegment        95       122   \n",
      "3      GOLD  NonplayerSegment       136       149   \n",
      "4      GOLD  NonplayerSegment       163       191   \n",
      "\n",
      "                            text creation_date author last_modif_date  \\\n",
      "0       zorburt joined the game.    1496239934   stac               0   \n",
      "1  catanstrophe joined the game.    1496239937   stac               0   \n",
      "2    zorburt sat down at seat 1.    1496239940   stac               0   \n",
      "3                  Game state 0.    1496239943   stac               0   \n",
      "4   raefbrisbin joined the game.    1496239946   stac               0   \n",
      "\n",
      "  last_modifier  seg_idx  eeu_idx  edu_idx turn_id  turn_span_beg  \\\n",
      "0           n/a        0      0.0      NaN   0.0.1             13   \n",
      "1           n/a        1      1.0      NaN   0.0.2             13   \n",
      "2           n/a        2      2.0      NaN   0.0.3             13   \n",
      "3           n/a        3      3.0      NaN   0.0.4             13   \n",
      "4           n/a        4      4.0      NaN   0.0.5             13   \n",
      "\n",
      "   turn_span_end  \n",
      "0             37  \n",
      "1             42  \n",
      "2             40  \n",
      "3             26  \n",
      "4             41  \n"
     ]
    }
   ],
   "source": [
    "print(segs_situ[:5])"
   ]
  },
  {
   "cell_type": "code",
   "execution_count": 6,
   "metadata": {
    "collapsed": true
   },
   "outputs": [],
   "source": [
    "# print(acts_situ[:5])"
   ]
  },
  {
   "cell_type": "code",
   "execution_count": 7,
   "metadata": {
    "collapsed": true
   },
   "outputs": [],
   "source": [
    "# print(schms_situ[:5])"
   ]
  },
  {
   "cell_type": "code",
   "execution_count": 8,
   "metadata": {
    "collapsed": true
   },
   "outputs": [],
   "source": [
    "# print(schm_mbrs_situ[:5])"
   ]
  },
  {
   "cell_type": "code",
   "execution_count": 9,
   "metadata": {},
   "outputs": [
    {
     "name": "stdout",
     "output_type": "stream",
     "text": [
      "                                      global_id               doc subdoc  \\\n",
      "0  s2-league5-game1_01_asoubeille_1414136334458  s2-league5-game1     01   \n",
      "1  s2-league5-game1_01_asoubeille_1414136350492  s2-league5-game1     01   \n",
      "2  s2-league5-game1_01_asoubeille_1414136518374  s2-league5-game1     01   \n",
      "3  s2-league5-game1_01_asoubeille_1414136538768  s2-league5-game1     01   \n",
      "4  s2-league5-game1_01_asoubeille_1414136598956  s2-league5-game1     01   \n",
      "\n",
      "       stage annotator      type  creation_date      author last_modif_date  \\\n",
      "0  discourse      GOLD   Comment  1414136334458  asoubeille   1496741651929   \n",
      "1  discourse      GOLD    Result  1414136350492  asoubeille               0   \n",
      "2  discourse      GOLD  Parallel  1414136518374  asoubeille               0   \n",
      "3  discourse      GOLD   Comment  1414136538768  asoubeille               0   \n",
      "4  discourse      GOLD   Comment  1414136598956  asoubeille               0   \n",
      "\n",
      "  last_modifier         arg_scope                    comments  \\\n",
      "0        nasher  Please choose...  Please write in remarks...   \n",
      "1           n/a         Specified  Please write in remarks...   \n",
      "2           n/a  Please choose...  Please write in remarks...   \n",
      "3           n/a       Unspecified  Please write in remarks...   \n",
      "4           n/a  Please choose...  Please write in remarks...   \n",
      "\n",
      "                                source                               target  \\\n",
      "0  s2-league5-game1_01_stac_1496239940  s2-league5-game1_01_stac_1413792984   \n",
      "1  s2-league5-game1_01_stac_1413792987  s2-league5-game1_01_stac_1413792988   \n",
      "2  s2-league5-game1_01_stac_1413792984  s2-league5-game1_01_stac_1413792991   \n",
      "3  s2-league5-game1_01_stac_1413792991  s2-league5-game1_01_stac_1413792994   \n",
      "4  s2-league5-game1_01_stac_1413792997  s2-league5-game1_01_stac_1413793000   \n",
      "\n",
      "   len_seg  len_edu  len_eeu  \n",
      "0      8.0      NaN      NaN  \n",
      "1      1.0      1.0      NaN  \n",
      "2      3.0      3.0      NaN  \n",
      "3      5.0      1.0      NaN  \n",
      "4      9.0      1.0      NaN  \n"
     ]
    }
   ],
   "source": [
    "print(rels_situ[:5])"
   ]
  },
  {
   "cell_type": "code",
   "execution_count": 10,
   "metadata": {
    "collapsed": true
   },
   "outputs": [],
   "source": [
    "# print(res_situ[:5])"
   ]
  },
  {
   "cell_type": "code",
   "execution_count": 11,
   "metadata": {
    "collapsed": true
   },
   "outputs": [],
   "source": [
    "# print(pref_situ[:5])"
   ]
  },
  {
   "cell_type": "code",
   "execution_count": 12,
   "metadata": {},
   "outputs": [
    {
     "data": {
      "text/plain": [
       "1.0     0.668458\n",
       "2.0     0.128397\n",
       "3.0     0.089556\n",
       "4.0     0.047700\n",
       "5.0     0.020626\n",
       "6.0     0.012528\n",
       "7.0     0.008597\n",
       "8.0     0.005661\n",
       "9.0     0.003984\n",
       "10.0    0.003145\n",
       "11.0    0.002700\n",
       "12.0    0.001599\n",
       "13.0    0.001573\n",
       "14.0    0.000996\n",
       "15.0    0.000734\n",
       "Name: len_seg, dtype: float64"
      ]
     },
     "execution_count": 12,
     "metadata": {},
     "output_type": "execute_result"
    }
   ],
   "source": [
    "(abs(rels_situ['len_seg']).value_counts() / rels_situ['len_seg'].count())[:15]"
   ]
  },
  {
   "cell_type": "code",
   "execution_count": 13,
   "metadata": {},
   "outputs": [
    {
     "data": {
      "text/plain": [
       "1.0     0.558409\n",
       "2.0     0.216675\n",
       "3.0     0.108960\n",
       "4.0     0.049066\n",
       "5.0     0.028558\n",
       "6.0     0.013512\n",
       "7.0     0.008241\n",
       "8.0     0.004408\n",
       "9.0     0.003354\n",
       "10.0    0.001917\n",
       "11.0    0.001437\n",
       "13.0    0.001342\n",
       "17.0    0.000862\n",
       "12.0    0.000575\n",
       "14.0    0.000575\n",
       "18.0    0.000287\n",
       "23.0    0.000287\n",
       "20.0    0.000287\n",
       "21.0    0.000287\n",
       "15.0    0.000287\n",
       "Name: len_edu, dtype: float64"
      ]
     },
     "execution_count": 13,
     "metadata": {},
     "output_type": "execute_result"
    }
   ],
   "source": [
    "(abs(rels_situ['len_edu']).value_counts() / rels_situ['len_edu'].count())[:15]"
   ]
  },
  {
   "cell_type": "code",
   "execution_count": 57,
   "metadata": {
    "collapsed": true
   },
   "outputs": [],
   "source": [
    "%matplotlib inline\n",
    "import numpy as np\n",
    "import matplotlib as plt\n",
    "import seaborn as sns\n",
    "sns.set(color_codes=True)\n",
    "sns.set_context(\"paper\")\n",
    "sns.set(rc={\"figure.figsize\": (18, 4)})"
   ]
  },
  {
   "cell_type": "code",
   "execution_count": 58,
   "metadata": {},
   "outputs": [
    {
     "data": {
      "text/plain": [
       "<matplotlib.axes._subplots.AxesSubplot at 0x7fe51fd58ad0>"
      ]
     },
     "execution_count": 58,
     "metadata": {},
     "output_type": "execute_result"
    },
    {
     "data": {
      "image/png": "[encoded data removed]",
      "text/plain": [
       "<matplotlib.figure.Figure at 0x7fe5210b6cd0>"
      ]
     },
     "metadata": {},
     "output_type": "display_data"
    }
   ],
   "source": [
    "abs_len_edu = abs(rels_situ['len_edu'])\n",
    "abs_len_edu = abs_len_edu[abs_len_edu.notnull()].astype(int)\n",
    "bins = np.arange(abs_len_edu.min(), abs_len_edu.max() + 1)\n",
    "len_dist = sns.distplot(abs_len_edu, bins=bins, rug=True)\n",
    "len_dist.set(xticks=bins)\n",
    "len_dist"
   ]
  },
  {
   "cell_type": "markdown",
   "metadata": {},
   "source": [
    "Get the list of situated games."
   ]
  },
  {
   "cell_type": "code",
   "execution_count": 14,
   "metadata": {
    "collapsed": true
   },
   "outputs": [],
   "source": [
    "# games_situ = list(turns_situ['doc'].unique())"
   ]
  },
  {
   "cell_type": "markdown",
   "metadata": {},
   "source": [
    "Read the linguistic (here, spect) version of the corpus."
   ]
  },
  {
   "cell_type": "code",
   "execution_count": 15,
   "metadata": {
    "collapsed": true
   },
   "outputs": [],
   "source": [
    "# turns_spect, dlgs_spect, segs_spect, acts_spect, schms_spect, schm_mbrs_spect, rels_spect, res_spect, pref_spect = read_corpus_as_dataframes(version='ling', split='all', sel_games=games_situ)"
   ]
  }
 ],
 "metadata": {
  "kernelspec": {
   "display_name": "Python 2",
   "language": "python",
   "name": "python2"
  },
  "language_info": {
   "codemirror_mode": {
    "name": "ipython",
    "version": 2
   },
   "file_extension": ".py",
   "mimetype": "text/x-python",
   "name": "python",
   "nbconvert_exporter": "python",
   "pygments_lexer": "ipython2",
   "version": "2.7.13"
  }
 },
 "nbformat": 4,
 "nbformat_minor": 2
}
