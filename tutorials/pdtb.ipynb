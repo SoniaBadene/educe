{
 "metadata": {
  "name": "",
  "signature": "sha256:279f6e467ba579f2668078484676fc68c1d7780803ff8497cef170daa3b15442"
 },
 "nbformat": 3,
 "nbformat_minor": 0,
 "worksheets": [
  {
   "cells": [
    {
     "cell_type": "markdown",
     "metadata": {},
     "source": [
      "# Educe\n",
      "\n",
      "[Educe][educe] is a library for working with a variety of discourse corpora.\n",
      "This tutorial aims to show what using educe would be like when working with\n",
      "the [Penn Discourse Treebank][pdtb] corpus. \n",
      "\n",
      "## Installation\n",
      "\n",
      "```shell\n",
      "git clone https://github.com/kowey/educe.git\n",
      "cd educe\n",
      "pip install -r requirements.txt\n",
      "```\n",
      "\n",
      "Note: these instructions assume you are running within\n",
      "a [virtual environment][virtualenv].\n",
      "If not, and if you have permission\n",
      "denied errors, replace `pip` with `sudo pip`.\n",
      "\n",
      "## Tutorial setup\n",
      "\n",
      "This tutorial require that you have a local copy of the PDTB. For purposes of this tutorial, you will need to link this into the data directory, for example\n",
      "\n",
      "```\n",
      "ln -s $HOME/CORPORA/pdtb_v2 data\n",
      "```\n",
      "\n",
      "### Tutorial in browser (optional)\n",
      "\n",
      "This tutorial can either be followed along with the command line and your favourite\n",
      "text editor, or embedded in an interactive webpage via iPython:\n",
      "\n",
      "```shell\n",
      "pip install ipython\n",
      "cd tutorials\n",
      "ipython notebook\n",
      "```\n",
      "\n",
      "[pdtb]: http://www.seas.upenn.edu/~pdtb/\n",
      "[educe]: http://kowey.github.io/educe\n",
      "[virtualenv]: http://virtualenv.readthedocs.org/en/latest/\n"
     ]
    },
    {
     "cell_type": "markdown",
     "metadata": {},
     "source": [
      "## Reading corpus files (PDTB)\n",
      "\n",
      "NB: unfortunately, at the time of this writing, PDTB support in educe is very much behind and rather inconsistent with that of the other corpora. Apologies for the mess!"
     ]
    },
    {
     "cell_type": "code",
     "collapsed": false,
     "input": [
      "from __future__ import print_function\n",
      "import educe.pdtb\n",
      "\n",
      "# relative to the educe docs directory\n",
      "data_dir = '../data'\n",
      "corpus_dir = '{dd}/pdtb_v2/data'.format(dd=data_dir)\n",
      "\n",
      "# read a small sample of the pdtb\n",
      "reader = educe.pdtb.Reader(corpus_dir)\n",
      "anno_files = reader.filter(reader.files(),\n",
      "                           lambda k: k.doc.startswith('wsj_231'))\n",
      "corpus = reader.slurp(anno_files, verbose=True)\n",
      "\n",
      "def show_type(rel):\n",
      "    \"short string for a relation type\"\n",
      "    return type(rel).__name__[:-8]\n",
      "    \n",
      "# print the first five rel types we read from each doc\n",
      "for key in corpus.keys()[:10]:\n",
      "    doc = corpus[key]\n",
      "    rtypes = [show_type(r) for r in doc]\n",
      "    print(\"[{0}] {1}\".format(key, \" \".join(rtypes[:5])))"
     ],
     "language": "python",
     "metadata": {},
     "outputs": [
      {
       "output_type": "stream",
       "stream": "stderr",
       "text": [
        "\r",
        "Slurping corpus dir [0/8]\r",
        "Slurping corpus dir [1/8]"
       ]
      },
      {
       "output_type": "stream",
       "stream": "stderr",
       "text": [
        "\r",
        "Slurping corpus dir [2/8]\r",
        "Slurping corpus dir [3/8]\r",
        "Slurping corpus dir [4/8]\r",
        "Slurping corpus dir [5/8]"
       ]
      },
      {
       "output_type": "stream",
       "stream": "stderr",
       "text": [
        "\r",
        "Slurping corpus dir [6/8]\r",
        "Slurping corpus dir [7/8]"
       ]
      },
      {
       "output_type": "stream",
       "stream": "stdout",
       "text": [
        "[wsj_2313 [None] discourse None] Entity Explicit Explicit Implicit Explicit\n",
        "[wsj_2316 [None] discourse None] Explicit Implicit Implicit Implicit Explicit\n",
        "[wsj_2311 [None] discourse None] Implicit\n",
        "[wsj_2310 [None] discourse None] Entity\n",
        "[wsj_2315 [None] discourse None] Explicit Implicit Entity Explicit Implicit\n",
        "[wsj_2314 [None] discourse None] Explicit Explicit Implicit Explicit Entity\n",
        "[wsj_2317 [None] discourse None] Implicit Implicit Explicit Implicit Explicit\n",
        "[wsj_2319 [None] discourse None] Explicit\n"
       ]
      },
      {
       "output_type": "stream",
       "stream": "stderr",
       "text": [
        "\r",
        "Slurping corpus dir [8/8 done]\n"
       ]
      }
     ],
     "prompt_number": 1
    },
    {
     "cell_type": "markdown",
     "metadata": {},
     "source": [
      "## Gorn addresses"
     ]
    },
    {
     "cell_type": "code",
     "collapsed": false,
     "input": [
      "# print the first seven gorn addresses for the first argument of the first\n",
      "# 5 rels we read from each doc\n",
      "for key in corpus.keys()[:3]:\n",
      "    doc = corpus[key]\n",
      "    rels = doc[:5]\n",
      "    print(key)\n",
      "    for r in doc[:5]:\n",
      "        print(\"\\t{0}\".format(r.arg1.gorn[:7]))"
     ],
     "language": "python",
     "metadata": {},
     "outputs": [
      {
       "output_type": "stream",
       "stream": "stdout",
       "text": [
        "wsj_2313 [None] discourse None\n",
        "\t[1]\n",
        "\t[3.0]\n",
        "\t[4.0.0]\n",
        "\t[5]\n",
        "\t[6.0.0, 6.0.1, 6.0.2, 6.0.3]\n",
        "wsj_2316 [None] discourse None\n",
        "\t[0.0.0, 0.0.1, 0.0.3, 0.1, 0.2]\n",
        "\t[2.0.0, 2.0.1, 2.0.3, 2.1, 2.2]\n",
        "\t[4]\n",
        "\t[5.3.4.1.1.2.2.2]\n",
        "\t[5.3.4]\n",
        "wsj_2311 [None] discourse None\n",
        "\t[0]\n"
       ]
      }
     ],
     "prompt_number": 12
    },
    {
     "cell_type": "markdown",
     "metadata": {},
     "source": [
      "## Penn Treebank integration"
     ]
    },
    {
     "cell_type": "code",
     "collapsed": false,
     "input": [
      "from educe.pdtb import ptb\n",
      "\n",
      "# confusingly, this is not an educe corpus reader, but the NLTK\n",
      "# bracketed reader.  Sorry\n",
      "ptb_reader = ptb.reader('{dd}/PTBIII/parsed/mrg/wsj/'.format(dd=data_dir))\n",
      "ptb_trees = {}\n",
      "for key in corpus.keys()[:3]:\n",
      "    ptb_trees[key] = ptb.parse_trees(corpus, key, ptb_reader)\n",
      "    print(\"{0}...\".format(str(ptb_trees[key])[:100]))"
     ],
     "language": "python",
     "metadata": {},
     "outputs": [
      {
       "output_type": "stream",
       "stream": "stdout",
       "text": [
        "[Tree('S', [Tree('NP-SBJ', [Tree('NNP', ['Kaufman']), Tree('CC', ['&']), Tree('NNP', ['Broad']), Tre...\n",
        "[Tree('S', [Tree('NP-SBJ', [Tree('NP', [Tree('DT', ['The']), Tree('NNP', ['U.S.'])]), Tree(',', [','...\n",
        "[Tree('S', [Tree('NP-SBJ', [Tree('NNP', ['CONCORDE']), Tree('JJ', ['trans-Atlantic']), Tree('NNS', [...\n"
       ]
      }
     ],
     "prompt_number": 17
    },
    {
     "cell_type": "code",
     "collapsed": false,
     "input": [
      "def pick_subtree(tree, gparts):\n",
      "    if gparts:\n",
      "        return pick_subtree(tree[gparts[0]], gparts[1:])\n",
      "    else:\n",
      "        return tree\n",
      "\n",
      "# print the first seven gorn addresses for the first argument of the first\n",
      "# 5 rels we read from each doc, along with the corresponding subtree\n",
      "for key in corpus.keys()[:3]:\n",
      "    doc = corpus[key]\n",
      "    rels = doc[:5]\n",
      "    ptb_tree = ptb_trees[key]\n",
      "    print(key)\n",
      "    for r in doc[:5]:\n",
      "        glist = r.arg1.gorn[:4]\n",
      "        subtrees = [pick_subtree(ptb_tree, g.parts) for g in glist]\n",
      "        for gorn, subtree in zip(glist, subtrees):\n",
      "            print(\"{0}\\n{1}...\".format(gorn, str(subtree)[:100]))"
     ],
     "language": "python",
     "metadata": {},
     "outputs": [
      {
       "output_type": "stream",
       "stream": "stdout",
       "text": [
        "wsj_2313 [None] discourse None\n",
        "1\n",
        "(S\n",
        "  (NP-SBJ\n",
        "    (NP (DT The) (NN partnership))\n",
        "    (, ,)\n",
        "    (NP\n",
        "      (NNP Kaufman)\n",
        "      (CC &)\n",
        " ...\n",
        "3.0\n",
        "(S\n",
        "  (NP-SBJ\n",
        "    (NP (DT The) (NN land))\n",
        "    (SBAR\n",
        "      (WHNP-2 (-NONE- 0))\n",
        "      (S\n",
        "        (NP-SB...\n",
        "4.0.0\n",
        "(S\n",
        "  (NP-SBJ (DT The) (NN partnership))\n",
        "  (VP\n",
        "    (VBZ runs)\n",
        "    (NP\n",
        "      (DT the)\n",
        "      (NN risk)\n",
        "...\n",
        "5\n",
        "(S\n",
        "  (`` ``)\n",
        "  (NP-SBJ (EX There))\n",
        "  (VP\n",
        "    (VBP are)\n",
        "    (ADVP (RB really))\n",
        "    (NP-PRD\n",
        "      (NP ...\n",
        "6.0.0\n",
        "(ADVP (RB Typically))...\n",
        "6.0.1\n",
        "(, ,)...\n",
        "6.0.2\n",
        "(S (NP-SBJ (NNS developers)) (VP (VBP option) (NP (NN property))))...\n",
        "6.0.3\n",
        "(, ,)...\n",
        "wsj_2316 [None] discourse None\n",
        "0.0.0\n",
        "(NP (DT The) (NNP U.S.))...\n",
        "0.0.1\n",
        "(, ,)...\n",
        "0.0.3\n",
        "(, ,)...\n",
        "0.1\n",
        "(VP\n",
        "  (VBZ is)\n",
        "  (VP\n",
        "    (VBG allocating)\n",
        "    (NP\n",
        "      (NP (DT a) (JJR larger) (NN share))\n",
        "      (P...\n",
        "2.0.0\n",
        "(NP (NNP Brazil))...\n",
        "2.0.1\n",
        "(, ,)...\n",
        "2.0.3\n",
        "(, ,)...\n",
        "2.1\n",
        "(VP\n",
        "  (VBZ is)\n",
        "  (VP\n",
        "    (VBN expected)\n",
        "    (S\n",
        "      (NP-SBJ (-NONE- *-2))\n",
        "      (VP\n",
        "        (TO to)...\n",
        "4\n",
        "(S\n",
        "  (PP-TMP (IN In) (NP (JJ recent) (NNS years)))\n",
        "  (, ,)\n",
        "  (NP-SBJ (NNP U.S.) (NNS steelmakers))\n",
        " ...\n",
        "5.3.4.1.1.2.2.2\n",
        "(SBAR\n",
        "  (WHNP-2 (WDT which))\n",
        "  (S\n",
        "    (NP-SBJ-1 (-NONE- *T*-2))\n",
        "    (VP\n",
        "      (VBZ is)\n",
        "      (RB n't...\n",
        "5.3.4\n",
        "(SBAR-ADV\n",
        "  (IN with)\n",
        "  (S\n",
        "    (NP-SBJ-4 (DT the) (NN difference))\n",
        "    (VP\n",
        "      (VBN supplied)\n",
        "    ...\n",
        "wsj_2311 [None] discourse None\n",
        "0\n",
        "(S\n",
        "  (NP-SBJ (NNP CONCORDE) (JJ trans-Atlantic) (NNS flights))\n",
        "  (VP\n",
        "    (VBP are)\n",
        "    (NP-PRD\n",
        "     ...\n"
       ]
      }
     ],
     "prompt_number": 28
    },
    {
     "cell_type": "markdown",
     "metadata": {},
     "source": [
      "## Work in progress\n",
      "\n",
      "This tutorial is very much a work in progress.\n",
      "Moreover, support for the PDTB in educe is still very incomplete.\n",
      "So it's very much a moving target. "
     ]
    },
    {
     "cell_type": "code",
     "collapsed": false,
     "input": [],
     "language": "python",
     "metadata": {},
     "outputs": []
    }
   ],
   "metadata": {}
  }
 ]
}