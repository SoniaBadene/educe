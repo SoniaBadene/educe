{
 "metadata": {
  "name": "",
  "signature": "sha256:021dda8f16614f5aa346ef25de26c6374e386190482163467a2324ac7c21a969"
 },
 "nbformat": 3,
 "nbformat_minor": 0,
 "worksheets": [
  {
   "cells": [
    {
     "cell_type": "markdown",
     "metadata": {},
     "source": [
      "# Educe\n",
      "\n",
      "[Educe][educe] is a library for working with a variety of discourse corpora.\n",
      "This tutorial aims to show what using educe would be like when working with\n",
      "the [Penn Discourse Treebank][pdtb] corpus. \n",
      "\n",
      "## Installation\n",
      "\n",
      "```shell\n",
      "git clone https://github.com/kowey/educe.git\n",
      "cd educe\n",
      "pip install -r requirements.txt\n",
      "```\n",
      "\n",
      "Note: these instructions assume you are running within\n",
      "a [virtual environment][virtualenv].\n",
      "If not, and if you have permission\n",
      "denied errors, replace `pip` with `sudo pip`.\n",
      "\n",
      "## Tutorial setup\n",
      "\n",
      "This tutorial require that you have a local copy of the PDTB. For purposes of this tutorial, you will need to link this into the data directory, for example\n",
      "\n",
      "```\n",
      "ln -s $HOME/CORPORA/pdtb_v2 data\n",
      "```\n",
      "\n",
      "Optionnally, to match the pdtb text spans to their analysis in the Penn Treebank, you need to \n",
      "have a local copy of the PTB at the same location \n",
      "\n",
      "\n",
      "```\n",
      "ln -s $HOME/CORPORA/PTBIII data\n",
      "```\n",
      "\n",
      "### Tutorial in browser (optional)\n",
      "\n",
      "This tutorial can either be followed along with the command line and your favourite\n",
      "text editor, or embedded in an interactive webpage via iPython:\n",
      "\n",
      "```shell\n",
      "pip install ipython\n",
      "cd tutorials\n",
      "ipython notebook\n",
      "```\n",
      "\n",
      "[pdtb]: http://www.seas.upenn.edu/~pdtb/\n",
      "[educe]: http://kowey.github.io/educe\n",
      "[virtualenv]: http://virtualenv.readthedocs.org/en/latest/\n"
     ]
    },
    {
     "cell_type": "code",
     "collapsed": false,
     "input": [
      "# some helper functions for the tutorial below\n",
      "\n",
      "def show_type(rel):\n",
      "    \"short string for a relation type\"\n",
      "    return type(rel).__name__[:-8]  # remove \"Relation\"\n",
      "\n",
      "def highlight(astring, color=1):\n",
      "    \"coloured text\"\n",
      "    return(\"\\x1b[3{color}m{str}\\x1b[0m\".format(color=color, str=astring))"
     ],
     "language": "python",
     "metadata": {},
     "outputs": [],
     "prompt_number": 2
    },
    {
     "cell_type": "markdown",
     "metadata": {},
     "source": [
      "## Reading corpus files (PDTB)\n",
      "\n",
      "NB: unfortunately, at the time of this writing, PDTB support in educe is very much behind and rather inconsistent with that of the other corpora. Apologies for the mess!"
     ]
    },
    {
     "cell_type": "code",
     "collapsed": false,
     "input": [
      "from __future__ import print_function\n",
      "import educe.pdtb\n",
      "\n",
      "# relative to the educe docs directory\n",
      "data_dir = '../data'\n",
      "corpus_dir = '{dd}/pdtb_v2/data'.format(dd=data_dir)\n",
      "\n",
      "# read a small sample of the pdtb\n",
      "reader = educe.pdtb.Reader(corpus_dir)\n",
      "anno_files = reader.filter(reader.files(),\n",
      "                           lambda k: k.doc.startswith('wsj_231'))\n",
      "corpus = reader.slurp(anno_files, verbose=True)\n",
      "    \n",
      "# print the first five rel types we read from each doc\n",
      "for key in corpus.keys()[:10]:\n",
      "    doc = corpus[key]\n",
      "    rtypes = [show_type(r) for r in doc]\n",
      "    print(\"[{0}] {1}\".format(key.doc, \" \".join(rtypes[:5])))"
     ],
     "language": "python",
     "metadata": {},
     "outputs": [
      {
       "output_type": "stream",
       "stream": "stderr",
       "text": [
        "\r",
        "Slurping corpus dir [0/8]\r",
        "Slurping corpus dir [1/8]"
       ]
      },
      {
       "output_type": "stream",
       "stream": "stderr",
       "text": [
        "\r",
        "Slurping corpus dir [2/8]\r",
        "Slurping corpus dir [3/8]"
       ]
      },
      {
       "output_type": "stream",
       "stream": "stderr",
       "text": [
        "\r",
        "Slurping corpus dir [4/8]\r",
        "Slurping corpus dir [5/8]\r",
        "Slurping corpus dir [6/8]\r",
        "Slurping corpus dir [7/8]"
       ]
      },
      {
       "output_type": "stream",
       "stream": "stdout",
       "text": [
        "[wsj_2315] Explicit Implicit Entity Explicit Implicit\n",
        "[wsj_2311] Implicit\n",
        "[wsj_2316] Explicit Implicit Implicit Implicit Explicit\n",
        "[wsj_2310] Entity\n",
        "[wsj_2319] Explicit\n",
        "[wsj_2317] Implicit Implicit Explicit Implicit Explicit\n",
        "[wsj_2313] Entity Explicit Explicit Implicit Explicit\n",
        "[wsj_2314] Explicit Explicit Implicit Explicit Entity\n"
       ]
      },
      {
       "output_type": "stream",
       "stream": "stderr",
       "text": [
        "\r",
        "Slurping corpus dir [8/8 done]\n"
       ]
      }
     ],
     "prompt_number": 3
    },
    {
     "cell_type": "markdown",
     "metadata": {},
     "source": [
      "## What's a corpus?\n",
      "\n",
      "A corpus is a dictionary from `FileId` keys to representation of PDTB documents.  \n",
      "\n",
      "### Keys\n",
      "\n",
      "A key has several fields meant to distinguish different annotated documents from each other. In the case of the PDTB, the only field of interest is `doc`, a Wall Street journal article number as you might find in the PTB."
     ]
    },
    {
     "cell_type": "code",
     "collapsed": false,
     "input": [
      "ex_key = educe.pdtb.mk_key('wsj_2314')\n",
      "ex_doc = corpus[ex_key]\n",
      "\n",
      "print(ex_key)\n",
      "print(ex_key.__dict__)"
     ],
     "language": "python",
     "metadata": {},
     "outputs": [
      {
       "output_type": "stream",
       "stream": "stdout",
       "text": [
        "wsj_2314 [None] discourse unknown\n",
        "{'doc': 'wsj_2314', 'subdoc': None, 'annotator': 'unknown', 'stage': 'discourse'}\n"
       ]
      }
     ],
     "prompt_number": 16
    },
    {
     "cell_type": "markdown",
     "metadata": {},
     "source": [
      "### Documents\n",
      "\n",
      "At some point in the future, the representation of a document may change to something a bit higher level and easier to work with.  For now, a \u201cdocument\u201d in the educe PDTB sense consists of a list of relations, each relation having a low-level representation that hews fairly closely to the grammar described in the PDTB annotation manual.\n",
      "\n",
      "**TIP**: At least until educe grows a more educe-like uniform representation of PDTB annotations, a very useful resource to look at when working with the PDTB may be The Penn Discourse Treebank 2.0 Annotation Manual, sections 6.3.1 to 6.3.5 (Description of PDTB representation format \u2192 File format \u2192 General outline\u2026). \n"
     ]
    },
    {
     "cell_type": "code",
     "collapsed": false,
     "input": [
      "lr = [r for r in ex_doc]\n",
      "r0 = lr[0]\n",
      "type(r0).__name__"
     ],
     "language": "python",
     "metadata": {},
     "outputs": [
      {
       "metadata": {},
       "output_type": "pyout",
       "prompt_number": 17,
       "text": [
        "'ExplicitRelation'"
       ]
      }
     ],
     "prompt_number": 17
    },
    {
     "cell_type": "markdown",
     "metadata": {},
     "source": [
      "### Relations\n",
      "\n",
      "There are five types of relation annotation: explicit, implicit, altlex, entity, no (as in no relation).  These are described in further detail in the PDTB annotation manual.  Here's well try to sketch out some of the important properties.\n",
      "\n",
      "The main thing to notice is that the 5 types of annotation not have very much in common with each other, but they have many overlapping pieces (see table in the [educe.pdtb docs][educe.pdtb])\n",
      "\n",
      "* a relation instance always has two arguments (these can be selected as `arg1` and `arg2`)\n",
      "\n",
      "[educe.pdtb]: https://educe.readthedocs.org/en/latest/api-doc/educe.pdtb.html"
     ]
    },
    {
     "cell_type": "code",
     "collapsed": false,
     "input": [
      "def display_rel(r):\n",
      "    \"pretty print a relation instance\"\n",
      "\n",
      "    rtype = show_type(r)\n",
      "    \n",
      "    if rtype == \"Explicit\":\n",
      "        conn = highlight(r.connhead)\n",
      "    elif rtype == \"Implicit\":\n",
      "        conn = \"{rtype} {conn1}\".format(rtype=rtype,\n",
      "                                        conn1=highlight(str(r.connective1)))\n",
      "    elif rtype == \"AltLex\":\n",
      "        conn = \"{rtype} {sem1}\".format(rtype=rtype,\n",
      "                                       sem1=highlight(r.semclass1))\n",
      "    else:\n",
      "        conn = rtype\n",
      "\n",
      "    fmt = \"{src}\\n \\t ---[{label}]---->\\n \\t\\t\\t{tgt}\"\n",
      "    return(fmt.format(src=highlight(r.arg1.text, 2),\n",
      "                      label=conn,\n",
      "                      tgt=highlight(r.arg2.text, 2)))\n",
      "        \n",
      "\n",
      "print(display_rel(r0))"
     ],
     "language": "python",
     "metadata": {},
     "outputs": [
      {
       "output_type": "stream",
       "stream": "stdout",
       "text": [
        "\u001b[32mQuantum Chemical Corp. went along for the ride\u001b[0m\n",
        " \t ---[\u001b[31mConnective(when | Temporal.Synchrony)\u001b[0m]---->\n",
        " \t\t\t\u001b[32mthe price of plastics took off in 1987\u001b[0m\n"
       ]
      }
     ],
     "prompt_number": 18
    },
    {
     "cell_type": "code",
     "collapsed": false,
     "input": [
      "r0.connhead.text"
     ],
     "language": "python",
     "metadata": {},
     "outputs": [
      {
       "metadata": {},
       "output_type": "pyout",
       "prompt_number": 8,
       "text": [
        "u'when'"
       ]
      }
     ],
     "prompt_number": 8
    },
    {
     "cell_type": "markdown",
     "metadata": {},
     "source": [
      "## Gorn addresses"
     ]
    },
    {
     "cell_type": "code",
     "collapsed": false,
     "input": [
      "# print the first seven gorn addresses for the first argument of the first\n",
      "# 5 rels we read from each doc\n",
      "for key in corpus.keys()[:3]:\n",
      "    doc = corpus[key]\n",
      "    rels = doc[:5]\n",
      "    print(key.doc)\n",
      "    for r in doc[:5]:\n",
      "        print(\"\\t{0}\".format(r.arg1.gorn[:7]))"
     ],
     "language": "python",
     "metadata": {},
     "outputs": [
      {
       "output_type": "stream",
       "stream": "stdout",
       "text": [
        "wsj_2315\n",
        "\t[0.0, 0.1.0, 0.1.1.0, 0.1.1.1, 0.1.1.2, 0.2]\n",
        "\t[1.1.1]\n",
        "\t[3]\n",
        "\t[5.1.1.1.0]\n",
        "\t[6.0, 6.1.0, 6.1.1.0, 6.1.1.1.0, 6.1.1.1.1, 6.1.1.1.2, 6.1.1.1.3.0]\n",
        "wsj_2311\n",
        "\t[0]\n",
        "wsj_2316\n",
        "\t[0.0.0, 0.0.1, 0.0.3, 0.1, 0.2]\n",
        "\t[2.0.0, 2.0.1, 2.0.3, 2.1, 2.2]\n",
        "\t[4]\n",
        "\t[5.3.4.1.1.2.2.2]\n",
        "\t[5.3.4]\n"
       ]
      }
     ],
     "prompt_number": 9
    },
    {
     "cell_type": "markdown",
     "metadata": {},
     "source": [
      "## Penn Treebank integration"
     ]
    },
    {
     "cell_type": "code",
     "collapsed": false,
     "input": [
      "from educe.pdtb import ptb\n",
      "\n",
      "# confusingly, this is not an educe corpus reader, but the NLTK\n",
      "# bracketed reader.  Sorry\n",
      "ptb_reader = ptb.reader('{dd}/PTBIII/parsed/mrg/wsj/'.format(dd=data_dir))\n",
      "ptb_trees = {}\n",
      "for key in corpus.keys()[:3]:\n",
      "    ptb_trees[key] = ptb.parse_trees(corpus, key, ptb_reader)\n",
      "    print(\"{0}...\".format(str(ptb_trees[key])[:100]))"
     ],
     "language": "python",
     "metadata": {},
     "outputs": [
      {
       "output_type": "stream",
       "stream": "stdout",
       "text": [
        "[Tree('S', [Tree('NP-SBJ-1', [Tree('NNP', ['RJR']), Tree('NNP', ['Nabisco']), Tree('NNP', ['Inc.'])]...\n",
        "[Tree('S', [Tree('NP-SBJ', [Tree('NNP', ['CONCORDE']), Tree('JJ', ['trans-Atlantic']), Tree('NNS', [...\n",
        "[Tree('S', [Tree('NP-SBJ', [Tree('NP', [Tree('DT', ['The']), Tree('NNP', ['U.S.'])]), Tree(',', [','...\n"
       ]
      }
     ],
     "prompt_number": 10
    },
    {
     "cell_type": "code",
     "collapsed": false,
     "input": [
      "!ls ../data/PTBIII/parsed/mrg/wsj/"
     ],
     "language": "python",
     "metadata": {},
     "outputs": [
      {
       "output_type": "stream",
       "stream": "stdout",
       "text": [
        "\u001b[34m00\u001b[m\u001b[m \u001b[34m01\u001b[m\u001b[m \u001b[34m02\u001b[m\u001b[m \u001b[34m03\u001b[m\u001b[m \u001b[34m04\u001b[m\u001b[m \u001b[34m05\u001b[m\u001b[m \u001b[34m06\u001b[m\u001b[m \u001b[34m07\u001b[m\u001b[m \u001b[34m08\u001b[m\u001b[m \u001b[34m09\u001b[m\u001b[m \u001b[34m10\u001b[m\u001b[m \u001b[34m11\u001b[m\u001b[m \u001b[34m12\u001b[m\u001b[m \u001b[34m13\u001b[m\u001b[m \u001b[34m14\u001b[m\u001b[m \u001b[34m15\u001b[m\u001b[m \u001b[34m16\u001b[m\u001b[m \u001b[34m17\u001b[m\u001b[m \u001b[34m18\u001b[m\u001b[m \u001b[34m19\u001b[m\u001b[m \u001b[34m20\u001b[m\u001b[m \u001b[34m21\u001b[m\u001b[m \u001b[34m22\u001b[m\u001b[m \u001b[34m23\u001b[m\u001b[m \u001b[34m24\u001b[m\u001b[m\r\n"
       ]
      }
     ],
     "prompt_number": 11
    },
    {
     "cell_type": "code",
     "collapsed": false,
     "input": [
      "def pick_subtree(tree, gparts):\n",
      "    if gparts:\n",
      "        return pick_subtree(tree[gparts[0]], gparts[1:])\n",
      "    else:\n",
      "        return tree\n",
      "\n",
      "# print the first seven gorn addresses for the first argument of the first\n",
      "# 5 rels we read from each doc, along with the corresponding subtree\n",
      "ndocs = 1\n",
      "nrels = 3\n",
      "ngorn = -1\n",
      "\n",
      "for key in corpus.keys()[:1]:\n",
      "    doc = corpus[key]\n",
      "    rels = doc[:nrels]\n",
      "    ptb_tree = ptb_trees[key]\n",
      "    print(\"=======\"+key.doc)\n",
      "    for i,r in enumerate(doc[:nrels]):\n",
      "        print(\"---- relation {0}\".format(i+1))\n",
      "        print(display_rel(r))\n",
      "        \n",
      "        for (i,arg) in enumerate([r.arg1,r.arg2]):\n",
      "            print(\".... arg {0}\".format(i+1))\n",
      "            glist = arg.gorn # arg.gorn[:ngorn]\n",
      "            subtrees = [pick_subtree(ptb_tree, g.parts) for g in glist]\n",
      "            for gorn, subtree in zip(glist, subtrees):\n",
      "                print(\"{0}\\n{1}\".format(gorn, str(subtree)))"
     ],
     "language": "python",
     "metadata": {},
     "outputs": [
      {
       "output_type": "stream",
       "stream": "stdout",
       "text": [
        "=======wsj_2315\n",
        "---- relation 1\n",
        "\u001b[32mRJR Nabisco Inc. is disbanding its division responsible for buying network advertising time\u001b[0m\n",
        " \t ---[\u001b[31mConnective(after | Temporal.Asynchronous.Succession)\u001b[0m]---->\n",
        " \t\t\t\u001b[32mmoving 11 of the group's 14 employees to New York from Atlanta\u001b[0m\n",
        ".... arg 1\n",
        "0.0\n",
        "(NP-SBJ-1 (NNP RJR) (NNP Nabisco) (NNP Inc.))\n",
        "0.1.0\n",
        "(VBZ is)\n",
        "0.1.1.0\n",
        "(VBG disbanding)\n",
        "0.1.1.1\n",
        "(NP\n",
        "  (NP (PRP$ its) (NN division))\n",
        "  (ADJP\n",
        "    (JJ responsible)\n",
        "    (PP\n",
        "      (IN for)\n",
        "      (S-NOM\n",
        "        (NP-SBJ (-NONE- *))\n",
        "        (VP\n",
        "          (VBG buying)\n",
        "          (NP (NN network) (NN advertising) (NN time)))))))\n",
        "0.1.1.2\n",
        "(, ,)\n",
        "0.2\n",
        "(. .)\n",
        ".... arg 2\n",
        "0.1.1.3.2\n",
        "(S-NOM\n",
        "  (NP-SBJ (-NONE- *-1))\n",
        "  (VP\n",
        "    (VBG moving)\n",
        "    (NP\n",
        "      (NP (CD 11))\n",
        "      (PP\n",
        "        (IN of)\n",
        "        (NP\n",
        "          (NP (DT the) (NN group) (POS 's))\n",
        "          (CD 14)\n",
        "          (NNS employees))))\n",
        "    (PP-DIR (TO to) (NP (NNP New) (NNP York)))\n",
        "    (PP-DIR (IN from) (NP (NNP Atlanta)))))\n",
        "---- relation 2\n",
        "\u001b[32mthat it is shutting down the RJR Nabisco Broadcast unit, and dismissing its 14 employees, in a move to save money\u001b[0m\n",
        " \t ---[Implicit \u001b[31mConnective(in addition | Expansion.Conjunction)\u001b[0m]---->\n",
        " \t\t\t\u001b[32mRJR is discussing its network-buying plans with its two main advertising firms, FCB/Leber Katz and McCann Erickson\u001b[0m\n",
        ".... arg 1\n",
        "1.1.1\n",
        "(SBAR\n",
        "  (IN that)\n",
        "  (S\n",
        "    (NP-SBJ (PRP it))\n",
        "    (VP\n",
        "      (VBZ is)\n",
        "      (VP\n",
        "        (VP\n",
        "          (VBG shutting)\n",
        "          (PRT (RP down))\n",
        "          (NP\n",
        "            (DT the)\n",
        "            (NNP RJR)\n",
        "            (NNP Nabisco)\n",
        "            (NNP Broadcast)\n",
        "            (NN unit)))\n",
        "        (, ,)\n",
        "        (CC and)\n",
        "        (VP (VBG dismissing) (NP (PRP$ its) (CD 14) (NNS employees)))\n",
        "        (, ,)\n",
        "        (PP-LOC\n",
        "          (IN in)\n",
        "          (NP\n",
        "            (DT a)\n",
        "            (NN move)\n",
        "            (S\n",
        "              (NP-SBJ (-NONE- *))\n",
        "              (VP (TO to) (VP (VB save) (NP (NN money)))))))))))\n",
        ".... arg 2\n",
        "2.1.1\n",
        "(SBAR\n",
        "  (-NONE- 0)\n",
        "  (S\n",
        "    (NP-SBJ (NNP RJR))\n",
        "    (VP\n",
        "      (VBZ is)\n",
        "      (VP\n",
        "        (VBG discussing)\n",
        "        (NP (PRP$ its) (JJ network-buying) (NNS plans))\n",
        "        (PP\n",
        "          (IN with)\n",
        "          (NP\n",
        "            (NP\n",
        "              (PRP$ its)\n",
        "              (CD two)\n",
        "              (JJ main)\n",
        "              (NN advertising)\n",
        "              (NNS firms))\n",
        "            (, ,)\n",
        "            (NP\n",
        "              (NP (NNP FCB\\/Leber) (NNP Katz))\n",
        "              (CC and)\n",
        "              (NP (NNP McCann) (NNP Erickson)))))))))\n",
        "---- relation 3\n",
        "\u001b[32mWe found with the size of our media purchases that an ad agency could do just as good a job at significantly lower cost,\" said the spokesman, who declined to specify how much RJR spends on network television time\u001b[0m\n",
        " \t ---[Entity]---->\n",
        " \t\t\t\u001b[32mAn executive close to the company said RJR is spending about $140 million on network television time this year, down from roughly $200 million last year\u001b[0m\n",
        ".... arg 1\n",
        "3\n",
        "(SINV\n",
        "  (`` ``)\n",
        "  (S-TPC-3\n",
        "    (NP-SBJ (PRP We))\n",
        "    (VP\n",
        "      (VBD found)\n",
        "      (PP\n",
        "        (IN with)\n",
        "        (NP\n",
        "          (NP (DT the) (NN size))\n",
        "          (PP (IN of) (NP (PRP$ our) (NNS media) (NNS purchases)))))\n",
        "      (SBAR\n",
        "        (IN that)\n",
        "        (S\n",
        "          (NP-SBJ (DT an) (NN ad) (NN agency))\n",
        "          (VP\n",
        "            (MD could)\n",
        "            (VP\n",
        "              (VB do)\n",
        "              (NP (ADJP (RB just) (RB as) (JJ good)) (DT a) (NN job))\n",
        "              (PP\n",
        "                (IN at)\n",
        "                (NP (ADJP (RB significantly) (JJR lower)) (NN cost)))))))))\n",
        "  (, ,)\n",
        "  ('' '')\n",
        "  (VP (VBD said) (S (-NONE- *T*-3)))\n",
        "  (NP-SBJ\n",
        "    (NP (DT the) (NN spokesman))\n",
        "    (, ,)\n",
        "    (SBAR\n",
        "      (WHNP-1 (WP who))\n",
        "      (S\n",
        "        (NP-SBJ-4 (-NONE- *T*-1))\n",
        "        (VP\n",
        "          (VBD declined)\n",
        "          (S\n",
        "            (NP-SBJ (-NONE- *-4))\n",
        "            (VP\n",
        "              (TO to)\n",
        "              (VP\n",
        "                (VB specify)\n",
        "                (SBAR\n",
        "                  (WHNP-2 (WRB how) (JJ much))\n",
        "                  (S\n",
        "                    (NP-SBJ (NNP RJR))\n",
        "                    (VP\n",
        "                      (VBZ spends)\n",
        "                      (NP (-NONE- *T*-2))\n",
        "                      (PP-CLR\n",
        "                        (IN on)\n",
        "                        (NP (NN network) (NN television) (NN time)))))))))))))\n",
        "  (. .))\n",
        ".... arg 2\n",
        "4\n",
        "(S\n",
        "  (NP-SBJ\n",
        "    (NP (DT An) (NN executive))\n",
        "    (ADJP (RB close) (PP (TO to) (NP (DT the) (NN company)))))\n",
        "  (VP\n",
        "    (VBD said)\n",
        "    (SBAR\n",
        "      (-NONE- 0)\n",
        "      (S\n",
        "        (NP-SBJ (NNP RJR))\n",
        "        (VP\n",
        "          (VBZ is)\n",
        "          (VP\n",
        "            (VBG spending)\n",
        "            (NP\n",
        "              (NP\n",
        "                (QP (RB about) ($ $) (CD 140) (CD million))\n",
        "                (-NONE- *U*))\n",
        "              (ADVP (-NONE- *ICH*-1)))\n",
        "            (PP-CLR\n",
        "              (IN on)\n",
        "              (NP (NN network) (NN television) (NN time)))\n",
        "            (NP-TMP (DT this) (NN year))\n",
        "            (, ,)\n",
        "            (ADVP-1\n",
        "              (RB down)\n",
        "              (PP\n",
        "                (IN from)\n",
        "                (NP\n",
        "                  (NP\n",
        "                    (QP (RB roughly) ($ $) (CD 200) (CD million))\n",
        "                    (-NONE- *U*))\n",
        "                  (NP-TMP (JJ last) (NN year))))))))))\n",
        "  (. .))\n"
       ]
      }
     ],
     "prompt_number": 12
    },
    {
     "cell_type": "code",
     "collapsed": false,
     "input": [
      "print(subtree.flatten())\n",
      "print(subtree.leaves())"
     ],
     "language": "python",
     "metadata": {},
     "outputs": [
      {
       "output_type": "stream",
       "stream": "stdout",
       "text": [
        "(S\n",
        "  An\n",
        "  executive\n",
        "  close\n",
        "  to\n",
        "  the\n",
        "  company\n",
        "  said\n",
        "  0\n",
        "  RJR\n",
        "  is\n",
        "  spending\n",
        "  about\n",
        "  $\n",
        "  140\n",
        "  million\n",
        "  *U*\n",
        "  *ICH*-1\n",
        "  on\n",
        "  network\n",
        "  television\n",
        "  time\n",
        "  this\n",
        "  year\n",
        "  ,\n",
        "  down\n",
        "  from\n",
        "  roughly\n",
        "  $\n",
        "  200\n",
        "  million\n",
        "  *U*\n",
        "  last\n",
        "  year\n",
        "  .)\n",
        "[u'An', u'executive', u'close', u'to', u'the', u'company', u'said', u'0', u'RJR', u'is', u'spending', u'about', u'$', u'140', u'million', u'*U*', u'*ICH*-1', u'on', u'network', u'television', u'time', u'this', u'year', u',', u'down', u'from', u'roughly', u'$', u'200', u'million', u'*U*', u'last', u'year', u'.']\n"
       ]
      }
     ],
     "prompt_number": 13
    },
    {
     "cell_type": "code",
     "collapsed": false,
     "input": [
      "from copy import copy\n",
      "t = copy(subtree)\n",
      "print(\"constituent = \"+ highlight(t.label()))\n",
      "for i in range(len(subtree)):\n",
      "    print(i)\n",
      "    print(t.pop())"
     ],
     "language": "python",
     "metadata": {},
     "outputs": [
      {
       "output_type": "stream",
       "stream": "stdout",
       "text": [
        "constituent = \u001b[31mS\u001b[0m\n",
        "0\n",
        "(. .)\n",
        "1\n",
        "(VP\n",
        "  (VBD said)\n",
        "  (SBAR\n",
        "    (-NONE- 0)\n",
        "    (S\n",
        "      (NP-SBJ (NNP RJR))\n",
        "      (VP\n",
        "        (VBZ is)\n",
        "        (VP\n",
        "          (VBG spending)\n",
        "          (NP\n",
        "            (NP\n",
        "              (QP (RB about) ($ $) (CD 140) (CD million))\n",
        "              (-NONE- *U*))\n",
        "            (ADVP (-NONE- *ICH*-1)))\n",
        "          (PP-CLR\n",
        "            (IN on)\n",
        "            (NP (NN network) (NN television) (NN time)))\n",
        "          (NP-TMP (DT this) (NN year))\n",
        "          (, ,)\n",
        "          (ADVP-1\n",
        "            (RB down)\n",
        "            (PP\n",
        "              (IN from)\n",
        "              (NP\n",
        "                (NP\n",
        "                  (QP (RB roughly) ($ $) (CD 200) (CD million))\n",
        "                  (-NONE- *U*))\n",
        "                (NP-TMP (JJ last) (NN year))))))))))\n",
        "2\n",
        "(NP-SBJ\n",
        "  (NP (DT An) (NN executive))\n",
        "  (ADJP (RB close) (PP (TO to) (NP (DT the) (NN company)))))\n"
       ]
      }
     ],
     "prompt_number": 14
    },
    {
     "cell_type": "code",
     "collapsed": false,
     "input": [
      "from copy import copy\n",
      "t = copy(subtree)\n",
      "\n",
      "def expand(subtree):\n",
      "    if type(subtree) is unicode:\n",
      "        print(subtree)\n",
      "    else:\n",
      "        print(\"constituent = \"+ highlight(subtree.label()))\n",
      "        for i, st in enumerate(subtree):\n",
      "            #print(i)\n",
      "            expand(st)\n",
      "  \n",
      "expand(t)"
     ],
     "language": "python",
     "metadata": {},
     "outputs": [
      {
       "output_type": "stream",
       "stream": "stdout",
       "text": [
        "constituent = \u001b[31mS\u001b[0m\n",
        "constituent = \u001b[31mNP-SBJ\u001b[0m\n",
        "constituent = \u001b[31mNP\u001b[0m\n",
        "constituent = \u001b[31mDT\u001b[0m\n",
        "An\n",
        "constituent = \u001b[31mNN\u001b[0m\n",
        "executive\n",
        "constituent = \u001b[31mADJP\u001b[0m\n",
        "constituent = \u001b[31mRB\u001b[0m\n",
        "close\n",
        "constituent = \u001b[31mPP\u001b[0m\n",
        "constituent = \u001b[31mTO\u001b[0m\n",
        "to\n",
        "constituent = \u001b[31mNP\u001b[0m\n",
        "constituent = \u001b[31mDT\u001b[0m\n",
        "the\n",
        "constituent = \u001b[31mNN\u001b[0m\n",
        "company\n",
        "constituent = \u001b[31mVP\u001b[0m\n",
        "constituent = \u001b[31mVBD\u001b[0m\n",
        "said\n",
        "constituent = \u001b[31mSBAR\u001b[0m\n",
        "constituent = \u001b[31m-NONE-\u001b[0m\n",
        "0\n",
        "constituent = \u001b[31mS\u001b[0m\n",
        "constituent = \u001b[31mNP-SBJ\u001b[0m\n",
        "constituent = \u001b[31mNNP\u001b[0m\n",
        "RJR\n",
        "constituent = \u001b[31mVP\u001b[0m\n",
        "constituent = \u001b[31mVBZ\u001b[0m\n",
        "is\n",
        "constituent = \u001b[31mVP\u001b[0m\n",
        "constituent = \u001b[31mVBG\u001b[0m\n",
        "spending\n",
        "constituent = \u001b[31mNP\u001b[0m\n",
        "constituent = \u001b[31mNP\u001b[0m\n",
        "constituent = \u001b[31mQP\u001b[0m\n",
        "constituent = \u001b[31mRB\u001b[0m\n",
        "about\n",
        "constituent = \u001b[31m$\u001b[0m\n",
        "$\n",
        "constituent = \u001b[31mCD\u001b[0m\n",
        "140\n",
        "constituent = \u001b[31mCD\u001b[0m\n",
        "million\n",
        "constituent = \u001b[31m-NONE-\u001b[0m\n",
        "*U*\n",
        "constituent = \u001b[31mADVP\u001b[0m\n",
        "constituent = \u001b[31m-NONE-\u001b[0m\n",
        "*ICH*-1\n",
        "constituent = \u001b[31mPP-CLR\u001b[0m\n",
        "constituent = \u001b[31mIN\u001b[0m\n",
        "on\n",
        "constituent = \u001b[31mNP\u001b[0m\n",
        "constituent = \u001b[31mNN\u001b[0m\n",
        "network\n",
        "constituent = \u001b[31mNN\u001b[0m\n",
        "television\n",
        "constituent = \u001b[31mNN\u001b[0m\n",
        "time\n",
        "constituent = \u001b[31mNP-TMP\u001b[0m\n",
        "constituent = \u001b[31mDT\u001b[0m\n",
        "this\n",
        "constituent = \u001b[31mNN\u001b[0m\n",
        "year\n",
        "constituent = \u001b[31m,\u001b[0m\n",
        ",\n",
        "constituent = \u001b[31mADVP-1\u001b[0m\n",
        "constituent = \u001b[31mRB\u001b[0m\n",
        "down\n",
        "constituent = \u001b[31mPP\u001b[0m\n",
        "constituent = \u001b[31mIN\u001b[0m\n",
        "from\n",
        "constituent = \u001b[31mNP\u001b[0m\n",
        "constituent = \u001b[31mNP\u001b[0m\n",
        "constituent = \u001b[31mQP\u001b[0m\n",
        "constituent = \u001b[31mRB\u001b[0m\n",
        "roughly\n",
        "constituent = \u001b[31m$\u001b[0m\n",
        "$\n",
        "constituent = \u001b[31mCD\u001b[0m\n",
        "200\n",
        "constituent = \u001b[31mCD\u001b[0m\n",
        "million\n",
        "constituent = \u001b[31m-NONE-\u001b[0m\n",
        "*U*\n",
        "constituent = \u001b[31mNP-TMP\u001b[0m\n",
        "constituent = \u001b[31mJJ\u001b[0m\n",
        "last\n",
        "constituent = \u001b[31mNN\u001b[0m\n",
        "year\n",
        "constituent = \u001b[31m.\u001b[0m\n",
        ".\n"
       ]
      }
     ],
     "prompt_number": 21
    },
    {
     "cell_type": "markdown",
     "metadata": {},
     "source": [
      "## Work in progress\n",
      "\n",
      "This tutorial is very much a work in progress.\n",
      "Moreover, support for the PDTB in educe is still very incomplete.\n",
      "So it's very much a moving target. "
     ]
    }
   ],
   "metadata": {}
  }
 ]
}